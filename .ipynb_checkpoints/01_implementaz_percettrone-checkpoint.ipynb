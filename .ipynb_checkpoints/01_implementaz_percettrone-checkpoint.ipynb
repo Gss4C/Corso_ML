{
 "cells": [
  {
   "cell_type": "markdown",
   "id": "60c5c603-1e8c-439b-b980-ffef5ae7eae7",
   "metadata": {},
   "source": [
    "Definisco il percettrone"
   ]
  },
  {
   "cell_type": "code",
   "execution_count": 2,
   "id": "493523aa-b187-4036-b6ab-e54a35a3b5e5",
   "metadata": {},
   "outputs": [],
   "source": [
    "import numpy as np\n",
    "class Perceptron( object ):\n",
    "    def __init__ ( self , eta=0.01, n_iter =50, random_state=1): #Costruttore, qui praticamente sto definendo l'oggetto della classe che uso, insomma come i comandi in ROOT. I parametri invece una volta fissati all'inizio della chiamata dell'oggetto non possono più cambiare.\n",
    "        self.eta = eta #Learning rate\n",
    "        self.n_iter = n_iter #Epoche\n",
    "        self.random_state = random_state #Seed per il RNG per lo stato iniziale\n",
    "\n",
    "    def fit( self, X, y): #Funzione fit nella classe\n",
    "        rgen = np.random.RandomState(self.random_state) #fra parentesi c'è il seed \n",
    "        self.w_ = rgen.normal(loc=0.0, scale =0.01, size =1 + X.shape[1]) #quelli definiti da qui per il self, sono attributi e non parametri. Sto inizializzando lo stato.\n",
    "        self.errors_ = []\n",
    "        for a in range( self.n_iter ):\n",
    "            errors=0\n",
    "            for xi , target in zip (X,y):\n",
    "                update = self.eta * ( target - self.predict ( xi ))\n",
    "                self.w_[1:] += update * xi \n",
    "                self.w_[0] += update\n",
    "                errors += int(update != 0.0)\n",
    "            self.errors_.append(errors) #numero di errori per ogni epoca\n",
    "\n",
    "    def net_input ( self , X):\n",
    "        return np.dot(X, self.w_[1:]) + self.w_[0] #dot fa il prodotto\n",
    "\n",
    "    def predict ( self , X): \n",
    "        return np.where( self.net_input (X) >= 0.0, 1, -1) "
   ]
  },
  {
   "cell_type": "markdown",
   "id": "604513ef-dbab-4360-b76c-71ac60ce18b8",
   "metadata": {},
   "source": [
    "Importo la libreria"
   ]
  },
  {
   "cell_type": "code",
   "execution_count": 3,
   "id": "aeba75f0-13a9-45ca-afb3-2a49497046f2",
   "metadata": {},
   "outputs": [
    {
     "data": {
      "text/html": [
       "<div>\n",
       "<style scoped>\n",
       "    .dataframe tbody tr th:only-of-type {\n",
       "        vertical-align: middle;\n",
       "    }\n",
       "\n",
       "    .dataframe tbody tr th {\n",
       "        vertical-align: top;\n",
       "    }\n",
       "\n",
       "    .dataframe thead th {\n",
       "        text-align: right;\n",
       "    }\n",
       "</style>\n",
       "<table border=\"1\" class=\"dataframe\">\n",
       "  <thead>\n",
       "    <tr style=\"text-align: right;\">\n",
       "      <th></th>\n",
       "      <th>0</th>\n",
       "      <th>1</th>\n",
       "      <th>2</th>\n",
       "      <th>3</th>\n",
       "      <th>4</th>\n",
       "    </tr>\n",
       "  </thead>\n",
       "  <tbody>\n",
       "    <tr>\n",
       "      <th>145</th>\n",
       "      <td>6.7</td>\n",
       "      <td>3.0</td>\n",
       "      <td>5.2</td>\n",
       "      <td>2.3</td>\n",
       "      <td>Iris-virginica</td>\n",
       "    </tr>\n",
       "    <tr>\n",
       "      <th>146</th>\n",
       "      <td>6.3</td>\n",
       "      <td>2.5</td>\n",
       "      <td>5.0</td>\n",
       "      <td>1.9</td>\n",
       "      <td>Iris-virginica</td>\n",
       "    </tr>\n",
       "    <tr>\n",
       "      <th>147</th>\n",
       "      <td>6.5</td>\n",
       "      <td>3.0</td>\n",
       "      <td>5.2</td>\n",
       "      <td>2.0</td>\n",
       "      <td>Iris-virginica</td>\n",
       "    </tr>\n",
       "    <tr>\n",
       "      <th>148</th>\n",
       "      <td>6.2</td>\n",
       "      <td>3.4</td>\n",
       "      <td>5.4</td>\n",
       "      <td>2.3</td>\n",
       "      <td>Iris-virginica</td>\n",
       "    </tr>\n",
       "    <tr>\n",
       "      <th>149</th>\n",
       "      <td>5.9</td>\n",
       "      <td>3.0</td>\n",
       "      <td>5.1</td>\n",
       "      <td>1.8</td>\n",
       "      <td>Iris-virginica</td>\n",
       "    </tr>\n",
       "  </tbody>\n",
       "</table>\n",
       "</div>"
      ],
      "text/plain": [
       "       0    1    2    3               4\n",
       "145  6.7  3.0  5.2  2.3  Iris-virginica\n",
       "146  6.3  2.5  5.0  1.9  Iris-virginica\n",
       "147  6.5  3.0  5.2  2.0  Iris-virginica\n",
       "148  6.2  3.4  5.4  2.3  Iris-virginica\n",
       "149  5.9  3.0  5.1  1.8  Iris-virginica"
      ]
     },
     "execution_count": 3,
     "metadata": {},
     "output_type": "execute_result"
    }
   ],
   "source": [
    "import pandas as pd\n",
    "df = pd.read_csv('https://archive.ics.uci.edu/ml/machine-learning-databases/iris/iris.data',header=None) \n",
    "df.tail()"
   ]
  },
  {
   "cell_type": "markdown",
   "id": "112f0b71-b5d1-40f5-9294-f50ac5a84601",
   "metadata": {},
   "source": [
    "Faccio un plot"
   ]
  },
  {
   "cell_type": "code",
   "execution_count": 37,
   "id": "beac6a78-02ea-4b78-9789-bea90572a261",
   "metadata": {},
   "outputs": [
    {
     "data": {
      "image/png": "[encoded data removed]",
      "text/plain": [
       "<Figure size 432x288 with 1 Axes>"
      ]
     },
     "metadata": {
      "needs_background": "light"
     },
     "output_type": "display_data"
    }
   ],
   "source": [
    "import matplotlib.pyplot as plt\n",
    "#import numpy as np #non dovrebbe essere necessario\n",
    "#------#\n",
    "#Ora mi vado a prendere il dataset, però con iloc vado a pigliarmi solo le righe da 0 a 100 e le prime 4 colonne (non voglio inserire anche l'info di outoput)\n",
    "y = df.iloc[0:100,4].values\n",
    "y = np.where(y == 'Iris-setosa',-1,1) #se ho iris setosa poni y=output a -1, altrimenti +1\n",
    "#mi vado a prendere le features\n",
    "X = df.iloc[0:100,[0,2]].values #le prime 100 righe, colonna 1 e colonna 3 (features)\n",
    "#ora faccio il plot\n",
    "plt.scatter(X[:50 , 0] , X[:50 , 1], color='red', marker='o', label='Setosa')\n",
    "plt.scatter(X[50:100,0], X[50:100, 1], color='blue', marker='x' , label='Versicolor')\n",
    "plt.xlabel('Lunghezza del sepalo [cm]')\n",
    "plt.ylabel('Lunghezza del petalo [cm]')\n",
    "plt.legend(loc='upper left')\n",
    "plt.show()"
   ]
  },
  {
   "cell_type": "markdown",
   "id": "ade9a248-efa0-4419-8bfc-80a64bf283dd",
   "metadata": {},
   "source": [
    "Ora creo un percettrone, faremo un determinato plot"
   ]
  },
  {
   "cell_type": "code",
   "execution_count": 38,
   "id": "d9631d28-f673-442e-91c3-460688d3f4ae",
   "metadata": {},
   "outputs": [
    {
     "data": {
      "image/png": "[encoded data removed]",
      "text/plain": [
       "<Figure size 432x288 with 1 Axes>"
      ]
     },
     "metadata": {
      "needs_background": "light"
     },
     "output_type": "display_data"
    }
   ],
   "source": [
    "ppn = Perceptron(eta=0.1 , n_iter=10 , random_state = 3)\n",
    "ppn.fit(X,y)\n",
    "plt.plot(range(1, len(ppn.errors_)+1) , ppn.errors_ , marker='x')\n",
    "plt.xlabel('Epoche')\n",
    "plt.ylabel(\"Numero di aggiornamenti\")\n",
    "plt.show()"
   ]
  },
  {
   "cell_type": "code",
   "execution_count": 39,
   "id": "0568ad62-244f-4836-a4c7-a8c2fbd11a55",
   "metadata": {},
   "outputs": [],
   "source": [
    "from matplotlib.colors import ListedColormap\n",
    "def plot_decision_regions(X,y, classifier , resolution = 0.02):\n",
    "    #stup dei marker e dei colori\n",
    "    markers = ('s','x','o','^','v')\n",
    "    colors = ('red' , 'blue' , 'lightgreen' , 'gray' , 'cyan')\n",
    "    cmap = ListedColormap(colors[: len(np.unique(y))])\n",
    "    #plot\n",
    "    x1_min , x1_max = X[:,0].min()-1 , X[:, 0].max()+1\n",
    "    x2_min , x2_max = X[:,1].min()-1 , X[:, 1].max()+1\n",
    "    xx1 , xx2 = np.meshgrid(np.arange(x1_min , x1_max , resolution) , np.arange(x2_min , x2_max , resolution))\n",
    "    Z = classifier.predict(np.array([xx1.ravel() , xx2.ravel()]).T)\n",
    "    Z = Z.reshape(xx1.shape)\n",
    "    plt.contourf(xx1 , xx2 , Z , alpha=0.3 , cmap=cmap)\n",
    "    plt.xlim(xx1.min() , xx1.max())\n",
    "    plt.ylim(xx2.min() , xx2.max())\n",
    "    \n",
    "    #plot esempio\n",
    "    for idx, cl , in enumerate(np.unique(y)):\n",
    "        plt.scatter(x=X[y==cl , 0],y=X[y==cl , 1], alpha=0.8 , c=colors[idx], marker=markers[idx], label=cl , edgecolor='black')\n",
    "    plt.show()"
   ]
  },
  {
   "cell_type": "code",
   "execution_count": 40,
   "id": "4a83d32e-5ccc-4831-923c-9c768c222b35",
   "metadata": {},
   "outputs": [
    {
     "data": {
      "image/png": "[encoded data removed]",
      "text/plain": [
       "<Figure size 432x288 with 1 Axes>"
      ]
     },
     "metadata": {
      "needs_background": "light"
     },
     "output_type": "display_data"
    }
   ],
   "source": [
    "plot_decision_regions(X,y,ppn)"
   ]
  },
  {
   "cell_type": "code",
   "execution_count": null,
   "id": "ba6d6546-a1b9-4c76-b711-bd34fff8c69f",
   "metadata": {},
   "outputs": [],
   "source": []
  }
 ],
 "metadata": {
  "kernelspec": {
   "display_name": "Python 3",
   "language": "python",
   "name": "python3"
  },
  "language_info": {
   "codemirror_mode": {
    "name": "ipython",
    "version": 3
   },
   "file_extension": ".py",
   "mimetype": "text/x-python",
   "name": "python",
   "nbconvert_exporter": "python",
   "pygments_lexer": "ipython3",
   "version": "3.8.8"
  }
 },
 "nbformat": 4,
 "nbformat_minor": 5
}
