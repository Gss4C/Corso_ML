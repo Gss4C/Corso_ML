{
 "cells": [
  {
   "cell_type": "code",
   "execution_count": 1,
   "id": "81f894d1-8efd-49c5-9317-949b612253d6",
   "metadata": {},
   "outputs": [],
   "source": [
    "import numpy as np\n",
    "class AdalineGD(object):\n",
    "    #stessa merda del percettrone fino al fit\n",
    "    def __init__ ( self , eta=0.01, n_iter =50, random_state=1):\n",
    "        self.eta = eta \n",
    "        self.n_iter = n_iter \n",
    "        self.random_state = random_state\n",
    "    \n",
    "    def fit(self , X , y): #qui non ho il for interno, non avviene istanza per istanza ma per minimizzazione\n",
    "        rgen = np.random.RandomState(self.random_state)\n",
    "        self.w_=rgen.normal(loc=0.0 , scale=0.01 , size=1+X.shape[1])\n",
    "        self.cost_=[]\n",
    "        \n",
    "        for i in range(self.n_iter):\n",
    "            net_input = self.net_input(X)\n",
    "            output = self.activation(net_input) \n",
    "            errors =(y-output)\n",
    "            self.w_[1:] += self.eta * X.T.dot(errors)\n",
    "            self.w_[0] += self.eta * errors.sum()\n",
    "            cost= (errors ** 2).sum() / 2.0\n",
    "            self.cost_.append(cost)\n",
    "        return self\n",
    "    \n",
    "    def net_input(self , X):\n",
    "        return np.dot(X , self.w_[1:]) + self.w_[0]\n",
    "    def activation(self , X):\n",
    "        return X\n",
    "    def predict(self , X):\n",
    "        return np.where(self.activation(self.net_input(X))>=0.0,1,-1)"
   ]
  },
  {
   "cell_type": "code",
   "execution_count": 2,
   "id": "ae501ba8-24e9-4fcd-b5a4-9849cbaabfde",
   "metadata": {},
   "outputs": [
    {
     "data": {
      "text/html": [
       "<div>\n",
       "<style scoped>\n",
       "    .dataframe tbody tr th:only-of-type {\n",
       "        vertical-align: middle;\n",
       "    }\n",
       "\n",
       "    .dataframe tbody tr th {\n",
       "        vertical-align: top;\n",
       "    }\n",
       "\n",
       "    .dataframe thead th {\n",
       "        text-align: right;\n",
       "    }\n",
       "</style>\n",
       "<table border=\"1\" class=\"dataframe\">\n",
       "  <thead>\n",
       "    <tr style=\"text-align: right;\">\n",
       "      <th></th>\n",
       "      <th>0</th>\n",
       "      <th>1</th>\n",
       "      <th>2</th>\n",
       "      <th>3</th>\n",
       "      <th>4</th>\n",
       "    </tr>\n",
       "  </thead>\n",
       "  <tbody>\n",
       "    <tr>\n",
       "      <th>145</th>\n",
       "      <td>6.7</td>\n",
       "      <td>3.0</td>\n",
       "      <td>5.2</td>\n",
       "      <td>2.3</td>\n",
       "      <td>Iris-virginica</td>\n",
       "    </tr>\n",
       "    <tr>\n",
       "      <th>146</th>\n",
       "      <td>6.3</td>\n",
       "      <td>2.5</td>\n",
       "      <td>5.0</td>\n",
       "      <td>1.9</td>\n",
       "      <td>Iris-virginica</td>\n",
       "    </tr>\n",
       "    <tr>\n",
       "      <th>147</th>\n",
       "      <td>6.5</td>\n",
       "      <td>3.0</td>\n",
       "      <td>5.2</td>\n",
       "      <td>2.0</td>\n",
       "      <td>Iris-virginica</td>\n",
       "    </tr>\n",
       "    <tr>\n",
       "      <th>148</th>\n",
       "      <td>6.2</td>\n",
       "      <td>3.4</td>\n",
       "      <td>5.4</td>\n",
       "      <td>2.3</td>\n",
       "      <td>Iris-virginica</td>\n",
       "    </tr>\n",
       "    <tr>\n",
       "      <th>149</th>\n",
       "      <td>5.9</td>\n",
       "      <td>3.0</td>\n",
       "      <td>5.1</td>\n",
       "      <td>1.8</td>\n",
       "      <td>Iris-virginica</td>\n",
       "    </tr>\n",
       "  </tbody>\n",
       "</table>\n",
       "</div>"
      ],
      "text/plain": [
       "       0    1    2    3               4\n",
       "145  6.7  3.0  5.2  2.3  Iris-virginica\n",
       "146  6.3  2.5  5.0  1.9  Iris-virginica\n",
       "147  6.5  3.0  5.2  2.0  Iris-virginica\n",
       "148  6.2  3.4  5.4  2.3  Iris-virginica\n",
       "149  5.9  3.0  5.1  1.8  Iris-virginica"
      ]
     },
     "execution_count": 2,
     "metadata": {},
     "output_type": "execute_result"
    }
   ],
   "source": [
    "import pandas as pd\n",
    "df = pd.read_csv('https://archive.ics.uci.edu/ml/machine-learning-databases/iris/iris.data',header=None) \n",
    "df.tail()"
   ]
  },
  {
   "cell_type": "markdown",
   "id": "4a432a7b-1817-418b-8ae6-f06df775e395",
   "metadata": {},
   "source": [
    "Provo ad utilizzare un Adaline per fare la stessa roba fatta col percettrone"
   ]
  },
  {
   "cell_type": "code",
   "execution_count": 3,
   "id": "848d0c3b-9a03-4720-89ec-fa8907bfbf75",
   "metadata": {},
   "outputs": [
    {
     "data": {
      "image/png": "[encoded data removed]",
      "text/plain": [
       "<Figure size 432x288 with 1 Axes>"
      ]
     },
     "metadata": {
      "needs_background": "light"
     },
     "output_type": "display_data"
    }
   ],
   "source": [
    "import matplotlib.pyplot as plt\n",
    "y = df.iloc[0:100,4].values\n",
    "y = np.where(y == 'Iris-setosa',-1,1)\n",
    "X = df.iloc[0:100,[0,2]].values \n",
    "\n",
    "plt.scatter(X[:50 , 0] , X[:50 , 1], color='red', marker='o', label='Setosa')\n",
    "plt.scatter(X[50:100,0], X[50:100, 1], color='blue', marker='x' , label='Versicolor')\n",
    "plt.xlabel('Lunghezza del sepalo [cm]')\n",
    "plt.ylabel('Lunghezza del petalo [cm]')\n",
    "plt.legend(loc='upper left')\n",
    "plt.show()"
   ]
  },
  {
   "cell_type": "code",
   "execution_count": 4,
   "id": "e8dbe91f-8914-4756-a2a7-502006dc7db3",
   "metadata": {},
   "outputs": [
    {
     "data": {
      "image/png": "[encoded data removed]",
      "text/plain": [
       "<Figure size 432x288 with 1 Axes>"
      ]
     },
     "metadata": {
      "needs_background": "light"
     },
     "output_type": "display_data"
    }
   ],
   "source": [
    "ada = AdalineGD(n_iter = 20 , eta = 0.01)\n",
    "ada.fit(X,y)\n",
    "plt.plot(range(1 , len(ada.cost_)+1) , np.log10(ada.cost_) , marker='o')\n",
    "plt.xlabel('Iterazioni')\n",
    "plt.ylabel(\"Errori\")\n",
    "plt.show()"
   ]
  },
  {
   "cell_type": "code",
   "execution_count": 5,
   "id": "d18a3f3f-755b-4de8-a9b8-c6f45b288946",
   "metadata": {},
   "outputs": [
    {
     "data": {
      "image/png": "[encoded data removed]",
      "text/plain": [
       "<Figure size 432x288 with 1 Axes>"
      ]
     },
     "metadata": {
      "needs_background": "light"
     },
     "output_type": "display_data"
    }
   ],
   "source": [
    "ada2 = AdalineGD(n_iter = 2190 , eta = 0.0001 , random_state=45)\n",
    "ada2.fit(X,y)\n",
    "plt.plot(range(1 , len(ada2.cost_)+1) , ada2.cost_ , marker='o')\n",
    "plt.xlabel('Iterazioni')\n",
    "plt.ylabel(\"Errori\")\n",
    "plt.show()"
   ]
  },
  {
   "cell_type": "code",
   "execution_count": 6,
   "id": "8fc71e25-5ea9-4454-8403-1b81b9ce0c2c",
   "metadata": {},
   "outputs": [],
   "source": [
    "from matplotlib.colors import ListedColormap\n",
    "def plot_decision_regions(X,y, classifier , resolution = 0.02):\n",
    "    #stup dei marker e dei colori\n",
    "    markers = ('s','x','o','^','v')\n",
    "    colors = ('red' , 'blue' , 'lightgreen' , 'gray' , 'cyan')\n",
    "    cmap = ListedColormap(colors[: len(np.unique(y))])\n",
    "    #plot\n",
    "    x1_min , x1_max = X[:,0].min()-1 , X[:, 0].max()+1\n",
    "    x2_min , x2_max = X[:,1].min()-1 , X[:, 1].max()+1\n",
    "    xx1 , xx2 = np.meshgrid(np.arange(x1_min , x1_max , resolution) , np.arange(x2_min , x2_max , resolution))\n",
    "    Z = classifier.predict(np.array([xx1.ravel() , xx2.ravel()]).T)\n",
    "    Z = Z.reshape(xx1.shape)\n",
    "    plt.contourf(xx1 , xx2 , Z , alpha=0.3 , cmap=cmap)\n",
    "    plt.xlim(xx1.min() , xx1.max())\n",
    "    plt.ylim(xx2.min() , xx2.max())\n",
    "    \n",
    "    #plot esempio. Qui posso plottare i punti di test, così vediamo se è tutto ok.\n",
    "    for idx, cl , in enumerate(np.unique(y)):\n",
    "        plt.scatter(x=X[y==cl , 0],y=X[y==cl , 1], alpha=0.8 , c=colors[idx], marker=markers[idx], label=cl , edgecolor='black')\n",
    "    plt.show()"
   ]
  },
  {
   "cell_type": "code",
   "execution_count": 7,
   "id": "dcd08f47-ad62-4043-8684-f9d941c209ad",
   "metadata": {},
   "outputs": [
    {
     "data": {
      "image/png": "[encoded data removed]",
      "text/plain": [
       "<Figure size 432x288 with 1 Axes>"
      ]
     },
     "metadata": {
      "needs_background": "light"
     },
     "output_type": "display_data"
    }
   ],
   "source": [
    "plot_decision_regions(X,y,ada2 )"
   ]
  },
  {
   "cell_type": "code",
   "execution_count": null,
   "id": "2260bc6b-a853-4be0-8424-bf9bce0a4ab3",
   "metadata": {},
   "outputs": [],
   "source": []
  }
 ],
 "metadata": {
  "kernelspec": {
   "display_name": "Python 3",
   "language": "python",
   "name": "python3"
  },
  "language_info": {
   "codemirror_mode": {
    "name": "ipython",
    "version": 3
   },
   "file_extension": ".py",
   "mimetype": "text/x-python",
   "name": "python",
   "nbconvert_exporter": "python",
   "pygments_lexer": "ipython3",
   "version": "3.8.8"
  }
 },
 "nbformat": 4,
 "nbformat_minor": 5
}
