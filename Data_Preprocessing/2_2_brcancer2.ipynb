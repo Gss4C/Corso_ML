{
 "cells": [
  {
   "cell_type": "code",
   "execution_count": null,
   "metadata": {},
   "outputs": [],
   "source": [
    "import numpy as np \n",
    "import pandas as pd"
   ]
  },
  {
   "cell_type": "code",
   "execution_count": null,
   "metadata": {},
   "outputs": [],
   "source": [
    "df = pd.read_csv('breast-cancer.data' , na_values='?')\n",
    "headers =  [\"Class\" , \"age\" , \"menopause\" , \"tumor-size\" , \"inv-nodes\" , \n",
    "    \"node-caps\" , \"deg-malig\" , \"breast\" , \"breast-quad\" , \"irradiat\"]\n",
    "df.columns = headers\n",
    "#X = df.iloc[0:284,1:9].values\n",
    "#y = df.iloc[0:284,0].values\n",
    "df"
   ]
  },
  {
   "cell_type": "markdown",
   "metadata": {},
   "source": [
    "PREPROCESSING"
   ]
  },
  {
   "cell_type": "code",
   "execution_count": null,
   "metadata": {},
   "outputs": [],
   "source": [
    "#LabelEncoder for class labels\n",
    "from sklearn.preprocessing import LabelEncoder\n",
    "'''class_le = LabelEncoder()\n",
    "y = class_le.fit_transform(df['Class'].values)'''"
   ]
  },
  {
   "cell_type": "code",
   "execution_count": null,
   "metadata": {},
   "outputs": [],
   "source": [
    "#Ordinal Features\n",
    "age_mapping = {'10-19':1, '20-29':2, '30-39':3, '40-49':4, '50-59':5, \n",
    "    '60-69':6, '70-79':7, '80-89':8, '90-99':9}\n",
    "df['age']=df['age'].map(age_mapping)\n",
    "\n",
    "size_mapping = {'0-4':1, '5-9':2, '10-14':3, '15-19':4, '20-24':5, '25-29':6, '30-34':7, \n",
    "    '35-39':8, '40-44':9, '45-49':10, '50-54':11, '55-59':12}\n",
    "df['tumor-size']=df['tumor-size'].map(size_mapping)\n",
    "\n",
    "nodes_mapping = { '0-2':1, '3-5':2, '6-8':3 , '9-11':4 , '12-14':5 , '15-17':6 , '18-20':7 , '21-23':8 , \n",
    "    '24-26':9 , '27-29':10 , '30-32':11 , '33-35':12 , '36-39':13}\n",
    "df['inv-nodes']=df['inv-nodes'].map(nodes_mapping)\n",
    "\n",
    "df"
   ]
  },
  {
   "cell_type": "markdown",
   "metadata": {},
   "source": [
    "I have now to deal missing data. It is possible to see here that there are few istances with missing data and only in nominal features, a good way to solve the problem could be to delete missing istances"
   ]
  },
  {
   "cell_type": "code",
   "execution_count": null,
   "metadata": {},
   "outputs": [],
   "source": [
    "#features_df.isnull().sum()[0:]\n",
    "df.isnull().sum()[0:]"
   ]
  },
  {
   "cell_type": "code",
   "execution_count": null,
   "metadata": {},
   "outputs": [],
   "source": [
    "df1 = df.dropna()\n",
    "class_le = LabelEncoder()\n",
    "y = class_le.fit_transform(df1['Class'].values)\n"
   ]
  },
  {
   "cell_type": "code",
   "execution_count": null,
   "metadata": {},
   "outputs": [],
   "source": [
    "# Nominal Features\n",
    "from sklearn.compose import ColumnTransformer\n",
    "from sklearn.preprocessing import OneHotEncoder\n",
    "\n",
    "'''XX = df[['age', 'menopause', 'tumor-size', 'inv-nodes',\n",
    "         'node-caps', 'deg-malig', 'breast', 'breast-quad', 'irradiat']].values\n",
    "c_transf = ColumnTransformer([\n",
    "    ('nothing' , 'passthrough' , [0,1,3,4,6]),\n",
    "    ('onehot', OneHotEncoder(), [2,5,7,8,9])\n",
    "])\n",
    "c_transf.fit_transform(X).astype(float)'''\n",
    "\n",
    "features_df = pd.get_dummies(df1[['age', 'menopause', 'tumor-size', 'inv-nodes','node-caps', \n",
    "    'deg-malig', 'breast', 'breast-quad', 'irradiat']] , drop_first=True)\n",
    "features_df\n",
    "X = features_df.iloc[0:276,1:12].values\n",
    "print(X.shape)\n",
    "print(y.shape)\n"
   ]
  },
  {
   "cell_type": "code",
   "execution_count": null,
   "metadata": {},
   "outputs": [],
   "source": [
    "from sklearn.model_selection import train_test_split\n",
    "X_0, X_test , y_0 , y_test = train_test_split(X , y , test_size = 0.2 , random_state=1 , stratify = y)\n",
    "print(X_0.shape)\n",
    "print(y_0.shape)\n"
   ]
  },
  {
   "cell_type": "code",
   "execution_count": 36,
   "metadata": {},
   "outputs": [
    {
     "name": "stdout",
     "output_type": "stream",
     "text": [
      "0.8035714285714286\n"
     ]
    }
   ],
   "source": [
    "from sklearn.ensemble import RandomForestClassifier\n",
    "from sklearn.metrics import accuracy_score\n",
    "forest = RandomForestClassifier(criterion='gini' , n_estimators= 5000 , \n",
    "        random_state=1 , n_jobs= 5 , max_depth=5)\n",
    "forest.fit(X_0 , y_0)\n",
    "\n",
    "y_pred = forest.predict(X_test)\n",
    "print(accuracy_score(y_test , y_pred))"
   ]
  },
  {
   "cell_type": "markdown",
   "metadata": {},
   "source": [
    "Now I have to look for best hyperparameters "
   ]
  },
  {
   "cell_type": "code",
   "execution_count": null,
   "metadata": {},
   "outputs": [],
   "source": []
  }
 ],
 "metadata": {
  "interpreter": {
   "hash": "4f04d4750147c260b0804ebfaa76b382e7043e60e5f744d3a402c5357fa22529"
  },
  "kernelspec": {
   "display_name": "Python 3.8.8 64-bit ('base': conda)",
   "language": "python",
   "name": "python3"
  },
  "language_info": {
   "codemirror_mode": {
    "name": "ipython",
    "version": 3
   },
   "file_extension": ".py",
   "mimetype": "text/x-python",
   "name": "python",
   "nbconvert_exporter": "python",
   "pygments_lexer": "ipython3",
   "version": "3.8.8"
  },
  "orig_nbformat": 4
 },
 "nbformat": 4,
 "nbformat_minor": 2
}
