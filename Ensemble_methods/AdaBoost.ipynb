{
 "cells": [
  {
   "cell_type": "code",
   "execution_count": 7,
   "metadata": {},
   "outputs": [],
   "source": [
    "import numpy as np \n",
    "import pandas as pd\n",
    "from sklearn.preprocessing import LabelEncoder\n",
    "from sklearn.model_selection import train_test_split\n",
    "from sklearn.tree import DecisionTreeClassifier\n",
    "df_wine=pd.read_csv('https://archive.ics.uci.edu/ml/machine-learning-databases/wine/wine.data')\n",
    "df_wine.columns=['Class label',\n",
    "                    'Alcohol',\n",
    "                    'Malic acid',\n",
    "                    'Ash',\n",
    "                    'Alcalinity of ash' ,\n",
    "                    'Magnesium', \n",
    "                    'Total phenols',\n",
    "                    'Flavanoids',\n",
    "                    'Nonflavanoid phenols',\n",
    "                    'Proanthocyanins',\n",
    "                    'Color intensity', \n",
    "                    'Hue',\n",
    "                    'OD280/OD315 of diluted wines',\n",
    "                    'Proline']\n",
    "df_wine=df_wine[df_wine['Class label']!=1]\n",
    "y=df_wine['Class label'].values\n",
    "X=df_wine.iloc[:,1:14].values\n",
    "le=LabelEncoder()\n",
    "y=le.fit_transform(y)\n",
    "X_train,X_test,y_train,y_test = train_test_split(X,y,\n",
    "                                    test_size=0.2,\n",
    "                                    random_state=1,\n",
    "                                    stratify=y)"
   ]
  },
  {
   "cell_type": "code",
   "execution_count": 8,
   "metadata": {},
   "outputs": [
    {
     "name": "stdout",
     "output_type": "stream",
     "text": [
      "Decision tree train/test accuracies: 0.905/0.917\n",
      "Decision tree train/test accuracies: 1.000/1.000\n"
     ]
    }
   ],
   "source": [
    "from sklearn.ensemble import AdaBoostClassifier\n",
    "from sklearn.metrics import accuracy_score\n",
    "tree=DecisionTreeClassifier(criterion='entropy', \n",
    "        random_state=1, \n",
    "        max_depth=1)\n",
    "ada=AdaBoostClassifier(base_estimator=tree,\n",
    "        n_estimators=500,\n",
    "        random_state=1)\n",
    "tree = tree.fit(X_train , y_train)\n",
    "y_train_pred = tree.predict(X_train)\n",
    "y_test_pred = tree.predict(X_test)\n",
    "tree_train = accuracy_score(y_train , y_train_pred)\n",
    "tree_test = accuracy_score(y_test , y_test_pred)\n",
    "print('Decision tree train/test accuracies: %.3f/%.3f' % (tree_train , tree_test))\n",
    "\n",
    "ada = ada.fit(X_train , y_train)\n",
    "y_train_pred = ada.predict(X_train)\n",
    "y_test_pred = ada.predict(X_test)\n",
    "ada_train = accuracy_score(y_train , y_train_pred)\n",
    "ada_test = accuracy_score(y_test , y_test_pred)\n",
    "print('Decision tree train/test accuracies: %.3f/%.3f' % (ada_train , ada_test))"
   ]
  },
  {
   "cell_type": "code",
   "execution_count": 9,
   "metadata": {},
   "outputs": [
    {
     "name": "stdout",
     "output_type": "stream",
     "text": [
      "Decision tree train/test accuracies: 0.894/0.909\n",
      "Decision tree train/test accuracies: 1.000/1.000\n"
     ]
    }
   ],
   "source": [
    "from sklearn.metrics import f1_score\n",
    "\n",
    "y_train_pred = tree.predict(X_train)\n",
    "y_test_pred = tree.predict(X_test)\n",
    "tree_train = f1_score(y_train , y_train_pred)\n",
    "tree_test = f1_score(y_test , y_test_pred)\n",
    "print('Decision tree train/test accuracies: %.3f/%.3f' % (tree_train , tree_test))\n",
    "\n",
    "ada = ada.fit(X_train , y_train)\n",
    "y_train_pred = ada.predict(X_train)\n",
    "y_test_pred = ada.predict(X_test)\n",
    "ada_train = f1_score(y_train , y_train_pred)\n",
    "ada_test = f1_score(y_test , y_test_pred)\n",
    "print('Decision tree train/test accuracies: %.3f/%.3f' % (ada_train , ada_test))"
   ]
  },
  {
   "cell_type": "code",
   "execution_count": null,
   "metadata": {},
   "outputs": [],
   "source": []
  }
 ],
 "metadata": {
  "interpreter": {
   "hash": "4f04d4750147c260b0804ebfaa76b382e7043e60e5f744d3a402c5357fa22529"
  },
  "kernelspec": {
   "display_name": "Python 3.8.8 64-bit ('base': conda)",
   "language": "python",
   "name": "python3"
  },
  "language_info": {
   "codemirror_mode": {
    "name": "ipython",
    "version": 3
   },
   "file_extension": ".py",
   "mimetype": "text/x-python",
   "name": "python",
   "nbconvert_exporter": "python",
   "pygments_lexer": "ipython3",
   "version": "3.8.8"
  },
  "orig_nbformat": 4
 },
 "nbformat": 4,
 "nbformat_minor": 2
}
