{
 "cells": [
  {
   "cell_type": "code",
   "execution_count": 6,
   "metadata": {},
   "outputs": [
    {
     "data": {
      "text/plain": [
       "0.9066666666666666"
      ]
     },
     "execution_count": 6,
     "metadata": {},
     "output_type": "execute_result"
    }
   ],
   "source": [
    "import numpy as np \n",
    "import pandas as pd\n",
    "from sklearn.datasets import load_iris\n",
    "from sklearn.ensemble import RandomForestClassifier, StackingClassifier\n",
    "from sklearn.svm import LinearSVC\n",
    "from sklearn.linear_model import LogisticRegression\n",
    "from sklearn.model_selection import train_test_split\n",
    "from sklearn.preprocessing import StandardScaler\n",
    "from sklearn.pipeline import make_pipeline\n",
    "\n",
    "X,y=load_iris(return_X_y=True)\n",
    "estimators=[('rf', RandomForestClassifier(n_estimators=10 , random_state=42)),\n",
    "    ('svr',make_pipeline(StandardScaler(), LinearSVC(random_state=42)))]\n",
    "clf = StackingClassifier(estimators=estimators,\n",
    "        final_estimator=LogisticRegression())\n",
    "X_train,X_test,y_train,y_test=train_test_split(X,y,\n",
    "                                stratify=y, \n",
    "                                random_state=42,\n",
    "                                test_size=0.5)\n",
    "clf.fit(X_train,y_train).score(X_test,y_test)"
   ]
  },
  {
   "cell_type": "code",
   "execution_count": 14,
   "metadata": {},
   "outputs": [],
   "source": [
    "import numpy as np \n",
    "import pandas as pd\n",
    "from sklearn.preprocessing import LabelEncoder\n",
    "from sklearn.model_selection import train_test_split\n",
    "from sklearn.tree import DecisionTreeClassifier\n",
    "df_wine=pd.read_csv('https://archive.ics.uci.edu/ml/machine-learning-databases/wine/wine.data')\n",
    "df_wine.columns=['Class label',\n",
    "                    'Alcohol',\n",
    "                    'Malic acid',\n",
    "                    'Ash',\n",
    "                    'Alcalinity of ash' ,\n",
    "                    'Magnesium', \n",
    "                    'Total phenols',\n",
    "                    'Flavanoids',\n",
    "                    'Nonflavanoid phenols',\n",
    "                    'Proanthocyanins',\n",
    "                    'Color intensity', \n",
    "                    'Hue',\n",
    "                    'OD280/OD315 of diluted wines',\n",
    "                    'Proline']\n",
    "df_wine=df_wine[df_wine['Class label']!=1]\n",
    "y=df_wine['Class label'].values\n",
    "X=df_wine.iloc[:, 1:14].values\n",
    "le=LabelEncoder()\n",
    "y=le.fit_transform(y)\n",
    "X_train,X_test,y_train,y_test = train_test_split(X,y,\n",
    "                                    test_size=0.2,\n",
    "                                    random_state=1,\n",
    "                                    stratify=y)"
   ]
  },
  {
   "cell_type": "code",
   "execution_count": 15,
   "metadata": {},
   "outputs": [
    {
     "data": {
      "text/plain": [
       "0.9166666666666666"
      ]
     },
     "execution_count": 15,
     "metadata": {},
     "output_type": "execute_result"
    }
   ],
   "source": [
    "clf.fit(X_train,y_train).score(X_test,y_test)"
   ]
  },
  {
   "cell_type": "code",
   "execution_count": null,
   "metadata": {},
   "outputs": [],
   "source": []
  }
 ],
 "metadata": {
  "interpreter": {
   "hash": "4f04d4750147c260b0804ebfaa76b382e7043e60e5f744d3a402c5357fa22529"
  },
  "kernelspec": {
   "display_name": "Python 3.8.8 64-bit ('base': conda)",
   "language": "python",
   "name": "python3"
  },
  "language_info": {
   "codemirror_mode": {
    "name": "ipython",
    "version": 3
   },
   "file_extension": ".py",
   "mimetype": "text/x-python",
   "name": "python",
   "nbconvert_exporter": "python",
   "pygments_lexer": "ipython3",
   "version": "3.8.8"
  },
  "orig_nbformat": 4
 },
 "nbformat": 4,
 "nbformat_minor": 2
}
