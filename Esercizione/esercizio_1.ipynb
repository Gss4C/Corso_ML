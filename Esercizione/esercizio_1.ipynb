{
 "cells": [
  {
   "cell_type": "code",
   "execution_count": 1,
   "metadata": {},
   "outputs": [
    {
     "data": {
      "text/plain": [
       "array([357, 212], dtype=int64)"
      ]
     },
     "execution_count": 1,
     "metadata": {},
     "output_type": "execute_result"
    }
   ],
   "source": [
    "import numpy as np \n",
    "import pandas as pd\n",
    "from sklearn.preprocessing import LabelEncoder\n",
    "from sklearn.pipeline import make_pipeline\n",
    "from sklearn.preprocessing import StandardScaler\n",
    "from sklearn.svm import SVC\n",
    "from sklearn.model_selection import train_test_split\n",
    "from sklearn.ensemble import RandomForestClassifier\n",
    "from sklearn.model_selection import GridSearchCV\n",
    "from sklearn.metrics import make_scorer , f1_score\n",
    "\n",
    "df = pd.read_csv('https://archive.ics.uci.edu/ml/machine-learning-databases/breast-cancer-wisconsin/wdbc.data'  , header=None)\n",
    "X = df.loc[: , 2:].values\n",
    "y = df.loc[:, 1].values\n",
    "le = LabelEncoder()\n",
    "y = le.fit_transform(y)\n",
    "np.bincount(y)"
   ]
  },
  {
   "cell_type": "code",
   "execution_count": 2,
   "metadata": {},
   "outputs": [],
   "source": [
    "X_train , X_test , y_train , y_test = train_test_split(X,\n",
    "                                        y, \n",
    "                                        test_size=0.25, \n",
    "                                        stratify=y, \n",
    "                                        random_state=1)"
   ]
  },
  {
   "cell_type": "code",
   "execution_count": 3,
   "metadata": {},
   "outputs": [
    {
     "name": "stdout",
     "output_type": "stream",
     "text": [
      "0.9859260968145737\n",
      "{'svc__C': 1.0, 'svc__kernel': 'linear'}\n"
     ]
    }
   ],
   "source": [
    "param_range = [0.001 , 0.01 , 0.1 , 1.0 , 10.0 , 100.0 , 1000.0]\n",
    "degree=[2,3,4,5,6,7]\n",
    "\n",
    "pipe_svm = make_pipeline(StandardScaler(), \n",
    "            SVC(random_state=1))\n",
    "\n",
    "param_grid = [{'svc__C': param_range, 'svc__kernel': ['linear']},\n",
    "                {'svc__C': param_range,'svc__gamma': param_range,'svc__kernel': ['rbf']}, \n",
    "                {'svc__C': param_range , 'svc__degree': degree , 'svc__kernel':['poly']}]\n",
    "                \n",
    "gs = GridSearchCV(estimator=pipe_svm, \n",
    "        param_grid=param_grid, \n",
    "        scoring='f1_weighted', \n",
    "        n_jobs=-1, \n",
    "        refit=True, \n",
    "        cv=10)\n",
    "\n",
    "gs=gs.fit(X_train , y_train)\n",
    "print(gs.best_score_)\n",
    "print(gs.best_params_)"
   ]
  },
  {
   "cell_type": "code",
   "execution_count": 4,
   "metadata": {},
   "outputs": [
    {
     "name": "stdout",
     "output_type": "stream",
     "text": [
      "0.9646921449181212\n",
      "{'randomforestclassifier__criterion': 'entropy', 'randomforestclassifier__max_depth': 10, 'randomforestclassifier__n_estimators': 100}\n"
     ]
    }
   ],
   "source": [
    "n_estimators = [10 , 50 , 100]\n",
    "max_depth=[10 , 100 , 200]\n",
    "\n",
    "pipe_forest = make_pipeline(RandomForestClassifier(random_state=1))\n",
    "\n",
    "param_grid_tree = [{'randomforestclassifier__n_estimators': n_estimators, 'randomforestclassifier__criterion': ['gini'] , 'randomforestclassifier__max_depth': max_depth},\n",
    "            {'randomforestclassifier__n_estimators': n_estimators, 'randomforestclassifier__criterion': ['entropy'] , 'randomforestclassifier__max_depth': max_depth}]\n",
    "                \n",
    "gs_t = GridSearchCV(estimator=pipe_forest, \n",
    "        param_grid=param_grid_tree, \n",
    "        scoring='f1_weighted', \n",
    "        n_jobs=-1, \n",
    "        refit=True, \n",
    "        cv=10)\n",
    "\n",
    "gs_t=gs_t.fit(X_train , y_train)\n",
    "print(gs_t.best_score_)\n",
    "print(gs_t.best_params_)"
   ]
  },
  {
   "cell_type": "code",
   "execution_count": null,
   "metadata": {},
   "outputs": [],
   "source": []
  }
 ],
 "metadata": {
  "interpreter": {
   "hash": "4f04d4750147c260b0804ebfaa76b382e7043e60e5f744d3a402c5357fa22529"
  },
  "kernelspec": {
   "display_name": "Python 3.8.8 64-bit ('base': conda)",
   "language": "python",
   "name": "python3"
  },
  "language_info": {
   "codemirror_mode": {
    "name": "ipython",
    "version": 3
   },
   "file_extension": ".py",
   "mimetype": "text/x-python",
   "name": "python",
   "nbconvert_exporter": "python",
   "pygments_lexer": "ipython3",
   "version": "3.8.8"
  },
  "orig_nbformat": 4
 },
 "nbformat": 4,
 "nbformat_minor": 2
}
