{
 "cells": [
  {
   "cell_type": "markdown",
   "metadata": {},
   "source": [
    "# Exercise\n",
    "This is a continuation of exercise_1.ipynb\n",
    "1. Compute the feature selection procedure VarianceTreshold with threshold 0.3 and use the reduced data for both SVM and Random forest. How does the performance change?\n",
    "2. Compute the three feature extraction procedures PCA, LDA and KPCA and use the reduced data for both SVM and Random forest. How does the performance change?\n"
   ]
  },
  {
   "cell_type": "code",
   "execution_count": 1,
   "metadata": {},
   "outputs": [
    {
     "data": {
      "text/plain": [
       "array([357, 212], dtype=int64)"
      ]
     },
     "execution_count": 1,
     "metadata": {},
     "output_type": "execute_result"
    }
   ],
   "source": [
    "import numpy as np \n",
    "import pandas as pd\n",
    "import matplotlib.pyplot as plt\n",
    "from sklearn.preprocessing import LabelEncoder,StandardScaler\n",
    "from sklearn.pipeline import make_pipeline\n",
    "from sklearn.svm import SVC\n",
    "from sklearn.model_selection import train_test_split,GridSearchCV,StratifiedKFold\n",
    "from sklearn.ensemble import RandomForestClassifier\n",
    "from sklearn.feature_selection import VarianceThreshold\n",
    "from sklearn.metrics import make_scorer,f1_score,confusion_matrix,roc_curve,auc,precision_score,recall_score,accuracy_score\n",
    "from sklearn.decomposition import KernelPCA,PCA\n",
    "from sklearn.discriminant_analysis import LinearDiscriminantAnalysis as LDA\n",
    "\n",
    "df = pd.read_csv('https://archive.ics.uci.edu/ml/machine-learning-databases/breast-cancer-wisconsin/wdbc.data',header=None)\n",
    "X = df.loc[: , 2:].values\n",
    "y = df.loc[:, 1].values\n",
    "le = LabelEncoder()\n",
    "y = le.fit_transform(y)\n",
    "np.bincount(y)"
   ]
  },
  {
   "cell_type": "markdown",
   "metadata": {},
   "source": [
    "## 1 - Variance Threshold"
   ]
  },
  {
   "cell_type": "code",
   "execution_count": 2,
   "metadata": {},
   "outputs": [],
   "source": [
    "sel = VarianceThreshold(threshold=0.3)\n",
    "X_th=sel.fit_transform(X)"
   ]
  },
  {
   "cell_type": "code",
   "execution_count": 3,
   "metadata": {},
   "outputs": [],
   "source": [
    "X_train_th , X_test_th , y_train_th , y_test_th = train_test_split(X_th,\n",
    "                                        y, \n",
    "                                        test_size=0.25, \n",
    "                                        stratify=y, \n",
    "                                        random_state=1)"
   ]
  },
  {
   "cell_type": "code",
   "execution_count": 4,
   "metadata": {},
   "outputs": [
    {
     "name": "stdout",
     "output_type": "stream",
     "text": [
      "0.9517558651026393\n",
      "{'svc__C': 1000.0, 'svc__gamma': 0.01, 'svc__kernel': 'rbf'}\n"
     ]
    }
   ],
   "source": [
    "param_range = [0.001 , 0.01 , 0.1 , 1.0 , 10.0 , 100.0 , 1000.0]\n",
    "degree=[2,3,4,5,6,7]\n",
    "\n",
    "pipe_svm = make_pipeline(StandardScaler(), \n",
    "            SVC(random_state=1, probability=True))\n",
    "\n",
    "param_grid = [{'svc__C': param_range, 'svc__kernel': ['linear']},\n",
    "                {'svc__C': param_range,'svc__gamma': param_range,'svc__kernel': ['rbf']}, \n",
    "                {'svc__C': param_range , 'svc__degree': degree , 'svc__kernel':['poly']}]\n",
    "\n",
    "scorer=make_scorer(f1_score)\n",
    "\n",
    "gs = GridSearchCV(estimator=pipe_svm, \n",
    "        param_grid=param_grid, \n",
    "        scoring=scorer, \n",
    "        n_jobs=-1, \n",
    "        refit=True, \n",
    "        cv=10)\n",
    "\n",
    "gs=gs.fit(X_train_th , y_train_th)\n",
    "print(gs.best_score_)\n",
    "print(gs.best_params_)"
   ]
  },
  {
   "cell_type": "code",
   "execution_count": 5,
   "metadata": {},
   "outputs": [
    {
     "name": "stdout",
     "output_type": "stream",
     "text": [
      "0.9286959837529917\n",
      "{'randomforestclassifier__criterion': 'gini', 'randomforestclassifier__max_depth': 10, 'randomforestclassifier__n_estimators': 50}\n"
     ]
    }
   ],
   "source": [
    "n_estimators = [10 , 50 , 100]\n",
    "max_depth=[10 , 100 , 200]\n",
    "\n",
    "pipe_forest = make_pipeline(RandomForestClassifier(random_state=1))\n",
    "\n",
    "param_grid_tree = [{'randomforestclassifier__n_estimators': n_estimators, 'randomforestclassifier__criterion': ['gini'] , 'randomforestclassifier__max_depth': max_depth},\n",
    "            {'randomforestclassifier__n_estimators': n_estimators, 'randomforestclassifier__criterion': ['entropy'] , 'randomforestclassifier__max_depth': max_depth}]\n",
    "                \n",
    "gs_t = GridSearchCV(estimator=pipe_forest, \n",
    "        param_grid=param_grid_tree, \n",
    "        scoring=scorer, \n",
    "        n_jobs=-1, \n",
    "        refit=True, \n",
    "        cv=10)\n",
    "\n",
    "gs_t=gs_t.fit(X_train_th , y_train_th)\n",
    "print(gs_t.best_score_)\n",
    "print(gs_t.best_params_)"
   ]
  },
  {
   "cell_type": "markdown",
   "metadata": {},
   "source": [
    "## 2 - PCA"
   ]
  },
  {
   "cell_type": "code",
   "execution_count": 6,
   "metadata": {},
   "outputs": [],
   "source": [
    "X_train_ex , X_test_ex , y_train_ex , y_test_ex = train_test_split(X,\n",
    "                                        y, \n",
    "                                        test_size=0.25, \n",
    "                                        stratify=y, \n",
    "                                        random_state=1)"
   ]
  },
  {
   "cell_type": "code",
   "execution_count": 7,
   "metadata": {},
   "outputs": [
    {
     "name": "stdout",
     "output_type": "stream",
     "text": [
      "0.9811499029476165\n",
      "{'pca__n_components': 11, 'svc__C': 1000.0, 'svc__gamma': 0.001, 'svc__kernel': 'rbf'}\n"
     ]
    }
   ],
   "source": [
    "from sklearn.decomposition import PCA\n",
    "param_range=[0.0001, 0.001, 0.01, 0.1, 1.0, 10.0, 100.0, 1000.0]\n",
    "degree = [3,4,5,6]\n",
    "n_comps=[5,6,7,8,9,10,11,12]\n",
    "param_grid_svm = [{'pca__n_components':n_comps,'svc__C':param_range,'svc__kernel':['linear']},\n",
    "                    {'pca__n_components':n_comps,'svc__C':param_range,'svc__gamma':param_range,'svc__kernel':['rbf']},\n",
    "                    {'pca__n_components':n_comps,'svc__C': param_range , 'svc__degree': degree , 'svc__kernel':['poly']}]\n",
    "scorer=make_scorer(f1_score, average='weighted')\n",
    "\n",
    "pipe_svm=make_pipeline(StandardScaler(),\n",
    "                PCA(),\n",
    "                SVC(probability=True, random_state=1))\n",
    "\n",
    "gs1=GridSearchCV(estimator=pipe_svm,\n",
    "        param_grid=param_grid_svm,\n",
    "        scoring=scorer,\n",
    "        n_jobs=-1,\n",
    "        refit=True,\n",
    "        cv=10)\n",
    "gs1=gs1.fit(X_train_ex, y_train_ex)\n",
    "print(gs1.best_score_)\n",
    "print(gs1.best_params_)"
   ]
  },
  {
   "cell_type": "code",
   "execution_count": 8,
   "metadata": {},
   "outputs": [
    {
     "name": "stdout",
     "output_type": "stream",
     "text": [
      "0.9517558651026393\n",
      "{'svc__C': 1000.0, 'svc__gamma': 0.01, 'svc__kernel': 'rbf'}\n"
     ]
    }
   ],
   "source": [
    "param_range=[0.0001, 0.001, 0.01, 0.1, 1.0, 10.0, 100.0, 1000.0]\n",
    "n_estimators = [10 , 50 , 100, 200, 300]\n",
    "max_depth=[10 , 100 , 200]\n",
    "param_grid_tree =[{'pca__n_components':n_comps,'randomforestclassifier__n_estimators': n_estimators, 'randomforestclassifier__criterion': ['gini'] , 'randomforestclassifier__max_depth': max_depth},\n",
    "            {'pca__n_components':n_comps,'randomforestclassifier__n_estimators': n_estimators, 'randomforestclassifier__criterion': ['entropy'] , 'randomforestclassifier__max_depth': max_depth}]\n",
    "\n",
    "pipe_tree=make_pipeline(PCA(),\n",
    "                RandomForestClassifier(random_state=1))\n",
    "\n",
    "gs2=GridSearchCV(estimator=pipe_tree,\n",
    "        param_grid=param_grid_tree,\n",
    "        scoring=scorer,\n",
    "        n_jobs=-1,\n",
    "        refit=True,\n",
    "        cv=10)\n",
    "\n",
    "gs2=gs2.fit(X_train_ex, y_train_ex)\n",
    "print(gs.best_score_)\n",
    "print(gs.best_params_)"
   ]
  },
  {
   "cell_type": "markdown",
   "metadata": {},
   "source": [
    "## 2 - LDA"
   ]
  },
  {
   "cell_type": "code",
   "execution_count": 17,
   "metadata": {},
   "outputs": [
    {
     "name": "stdout",
     "output_type": "stream",
     "text": [
      "0.9517558651026393\n",
      "{'svc__C': 1000.0, 'svc__gamma': 0.01, 'svc__kernel': 'rbf'}\n"
     ]
    }
   ],
   "source": [
    "param_grid_svm = [{'svc__C':param_range,'svc__kernel':['linear']},\n",
    "                    {'svc__C':param_range,'svc__gamma':param_range,'svc__kernel':['rbf']},\n",
    "                    {'svc__C': param_range , 'svc__degree': degree , 'svc__kernel':['poly']}]   \n",
    "\n",
    "pipe_svm=make_pipeline(StandardScaler(),\n",
    "            LDA(n_components=1),\n",
    "            SVC(random_state=1))\n",
    "\n",
    "gs3=GridSearchCV(estimator=pipe_svm,\n",
    "        param_grid=param_grid_svm,\n",
    "        scoring=scorer,\n",
    "        n_jobs=-1,\n",
    "        refit=True,\n",
    "        cv=10)\n",
    "gs3=gs3.fit(X_train_ex, y_train_ex)\n",
    "print(gs.best_score_)\n",
    "print(gs.best_params_)"
   ]
  },
  {
   "cell_type": "code",
   "execution_count": 15,
   "metadata": {},
   "outputs": [
    {
     "name": "stdout",
     "output_type": "stream",
     "text": [
      "0.9517558651026393\n",
      "{'svc__C': 1000.0, 'svc__gamma': 0.01, 'svc__kernel': 'rbf'}\n"
     ]
    }
   ],
   "source": [
    "param_range=[0.0001, 0.001, 0.01, 0.1, 1.0, 10.0, 100.0, 1000.0]\n",
    "n_estimators = [10 , 50 , 100 , 200, 300]\n",
    "max_depth=[10 , 100 , 200]\n",
    "param_grid_tree =[{'randomforestclassifier__n_estimators': n_estimators, 'randomforestclassifier__criterion': ['gini'] , 'randomforestclassifier__max_depth': max_depth},\n",
    "            {'randomforestclassifier__n_estimators': n_estimators, 'randomforestclassifier__criterion': ['entropy'] , 'randomforestclassifier__max_depth': max_depth}]\n",
    "\n",
    "pipe_tree=make_pipeline(LDA(n_components=1),\n",
    "                RandomForestClassifier(random_state=1))\n",
    "\n",
    "gs4=GridSearchCV(estimator=pipe_tree,\n",
    "        param_grid=param_grid_tree,\n",
    "        scoring=scorer,\n",
    "        n_jobs=-1,\n",
    "        refit=True,\n",
    "        cv=10)\n",
    "\n",
    "gs4=gs4.fit(X_train_ex, y_train_ex)\n",
    "print(gs.best_score_)\n",
    "print(gs.best_params_)"
   ]
  },
  {
   "cell_type": "markdown",
   "metadata": {},
   "source": [
    "## 2 - KPCA"
   ]
  },
  {
   "cell_type": "code",
   "execution_count": 13,
   "metadata": {},
   "outputs": [
    {
     "name": "stdout",
     "output_type": "stream",
     "text": [
      "0.9517558651026393\n",
      "{'svc__C': 1000.0, 'svc__gamma': 0.01, 'svc__kernel': 'rbf'}\n"
     ]
    },
    {
     "name": "stderr",
     "output_type": "stream",
     "text": [
      "C:\\Users\\jb5nn\\anaconda3\\lib\\site-packages\\sklearn\\model_selection\\_search.py:918: UserWarning: One or more of the test scores are non-finite: [0.48295859 0.48295859 0.6956266  ...        nan        nan        nan]\n",
      "  warnings.warn(\n"
     ]
    }
   ],
   "source": [
    "param_range=[0.001, 0.01, 0.1, 1.0, 10.0, 100.0]\n",
    "degree = [4,5,6,7,8,9]\n",
    "n_comps=[4,5,6,7,8,9,10,11,12]\n",
    "\n",
    "param_grid_svm = [{'kernelpca__n_components':n_comps,'kernelpca__gamma':param_range,'svc__C':param_range,'svc__kernel':['linear']},\n",
    "                    {'kernelpca__n_components':n_comps,'kernelpca__gamma':param_range,'svc__C':param_range,'svc__gamma':param_range,'svc__kernel':['rbf']},\n",
    "                    {'kernelpca__n_components':n_comps,'kernelpca__gamma':param_range,'svc__C': param_range , 'svc__degree': degree , 'svc__kernel':['poly']}]   \n",
    "\n",
    "pipe_svm=make_pipeline(StandardScaler(),\n",
    "            KernelPCA(kernel='rbf'),\n",
    "            SVC(random_state=1))\n",
    "\n",
    "gs5=GridSearchCV(estimator=pipe_svm,\n",
    "        param_grid=param_grid_svm,\n",
    "        scoring=scorer,\n",
    "        n_jobs=-1,\n",
    "        refit=True,\n",
    "        cv=10)\n",
    "        \n",
    "gs5=gs5.fit(X_train_ex, y_train_ex)\n",
    "print(gs.best_score_)\n",
    "print(gs.best_params_)"
   ]
  },
  {
   "cell_type": "code",
   "execution_count": 10,
   "metadata": {},
   "outputs": [
    {
     "name": "stdout",
     "output_type": "stream",
     "text": [
      "0.9517558651026393\n",
      "{'svc__C': 1000.0, 'svc__gamma': 0.01, 'svc__kernel': 'rbf'}\n"
     ]
    },
    {
     "name": "stderr",
     "output_type": "stream",
     "text": [
      "C:\\Users\\jb5nn\\anaconda3\\lib\\site-packages\\sklearn\\model_selection\\_search.py:918: UserWarning: One or more of the test scores are non-finite: [0.78170645 0.83320537 0.83060162 0.8222544  0.82564733 0.77424929\n",
      " 0.84067681 0.82822284 0.82781735 0.82794883 0.77424929 0.84067681\n",
      " 0.82822284 0.82781735 0.82794883 0.75466328 0.78451583 0.79825911\n",
      " 0.81810415 0.79328016 0.75488536 0.78958422 0.78753794 0.81701119\n",
      " 0.79008802 0.75488536 0.78958422 0.78753794 0.81701119 0.79008802\n",
      " 0.79032577 0.75330336 0.75616727 0.75303947 0.75303947 0.7722111\n",
      " 0.75089594 0.75616727 0.75303947 0.75303947 0.7722111  0.75089594\n",
      " 0.75616727 0.75303947 0.75303947 0.78000007 0.72453787 0.71747049\n",
      " 0.6930971  0.69106226 0.78000007 0.73613798 0.73011628 0.70018599\n",
      " 0.69106226 0.78000007 0.73613798 0.73011628 0.70018599 0.69106226\n",
      " 0.67641415 0.70685831 0.69496139 0.70207686 0.68744163 0.72315604\n",
      " 0.69894903 0.70549607 0.70576521 0.69084216 0.72315604 0.69894903\n",
      " 0.70549607 0.70576521 0.69084216 0.48295859 0.48295859 0.48295859\n",
      " 0.48295859 0.48295859 0.48184058 0.48295859 0.48295859 0.48295859\n",
      " 0.48295859 0.48184058 0.48295859 0.48295859 0.48295859 0.48295859\n",
      " 0.48295859 0.48295859 0.48295859 0.48295859 0.48295859 0.48295859\n",
      " 0.48295859 0.48295859 0.48295859 0.48295859 0.48295859 0.48295859\n",
      " 0.48295859 0.48295859 0.48295859 0.48184058 0.48295859 0.48295859\n",
      " 0.48295859 0.48295859 0.48069923 0.48295859 0.48295859 0.48295859\n",
      " 0.48295859 0.48069923 0.48295859 0.48295859 0.48295859 0.48295859\n",
      " 0.48295859 0.48295859 0.48295859 0.48295859 0.48295859 0.48295859\n",
      " 0.48295859 0.48295859 0.48295859 0.48295859 0.48295859 0.48295859\n",
      " 0.48295859 0.48295859 0.48295859 0.48295859 0.48295859 0.48295859\n",
      " 0.48295859 0.48295859 0.48295859 0.48295859 0.48295859 0.48295859\n",
      " 0.48295859 0.48295859 0.48295859 0.48295859 0.48295859 0.48295859\n",
      " 0.48295859 0.48295859 0.48295859 0.48295859 0.48295859 0.48295859\n",
      " 0.48295859 0.48295859 0.48295859 0.48295859 0.48295859 0.48295859\n",
      " 0.48295859 0.48295859 0.48295859 0.48295859 0.48295859 0.48295859\n",
      " 0.48295859 0.48295859 0.48295859 0.48295859 0.48295859 0.48295859\n",
      " 0.48295859 0.48295859 0.48295859 0.48295859 0.48295859 0.48295859\n",
      " 0.48295859 0.48295859 0.48295859 0.48295859 0.48295859 0.48295859\n",
      " 0.48295859 0.48295859 0.48295859 0.48295859 0.48295859 0.48295859\n",
      " 0.48295859 0.48295859 0.48295859 0.48295859 0.48295859 0.48295859\n",
      " 0.48295859 0.48295859 0.48295859 0.48295859 0.48295859 0.48295859\n",
      " 0.48295859 0.48295859 0.48295859 0.48295859 0.48295859 0.48295859\n",
      " 0.48295859 0.48295859 0.48295859 0.48295859 0.48295859 0.48295859\n",
      " 0.48295859 0.48295859 0.48295859 0.48295859 0.48295859 0.48295859\n",
      " 0.48295859 0.48295859 0.48295859 0.48295859 0.48295859 0.48295859\n",
      " 0.48295859 0.48295859 0.48295859 0.48295859 0.48295859 0.48295859\n",
      " 0.48295859 0.48295859 0.48295859 0.48295859 0.48295859 0.48295859\n",
      "        nan 0.48295859        nan 0.48295859 0.48295859 0.48295859\n",
      " 0.48295859 0.48295859 0.48295859 0.48295859        nan 0.48295859\n",
      " 0.48295859 0.48295859 0.48295859        nan 0.48295859        nan\n",
      "        nan        nan 0.48295859        nan        nan 0.48295859\n",
      "        nan        nan        nan 0.48295859        nan 0.48295859\n",
      "        nan        nan        nan        nan        nan        nan\n",
      "        nan        nan        nan        nan        nan        nan\n",
      "        nan        nan        nan        nan        nan        nan\n",
      "        nan        nan        nan        nan        nan        nan\n",
      "        nan        nan        nan        nan        nan        nan\n",
      "        nan        nan 0.48295859 0.48295859 0.48295859        nan\n",
      "        nan 0.45470137 0.37186606 0.45470137 0.37186606        nan\n",
      "        nan 0.48295859 0.48295859 0.43031685        nan        nan\n",
      " 0.45470137 0.4283805         nan        nan        nan        nan\n",
      "        nan        nan        nan 0.48295859 0.4283805  0.42644415\n",
      " 0.45470137 0.48295859        nan        nan        nan        nan\n",
      " 0.48295859        nan        nan        nan        nan        nan\n",
      " 0.48295859        nan        nan        nan        nan        nan\n",
      "        nan        nan        nan        nan        nan        nan\n",
      "        nan        nan        nan        nan        nan        nan\n",
      "        nan        nan        nan        nan        nan        nan\n",
      "        nan        nan        nan        nan        nan        nan\n",
      "        nan        nan        nan        nan        nan 0.48295859\n",
      " 0.42644415 0.45470137 0.39818693        nan        nan 0.45663772\n",
      " 0.36860971        nan        nan 0.45470137        nan 0.4283805\n",
      " 0.42318781        nan        nan        nan        nan 0.48295859\n",
      "        nan 0.42644415        nan        nan 0.48295859 0.48295859\n",
      "        nan 0.45470137        nan        nan        nan        nan\n",
      "        nan        nan        nan        nan        nan        nan\n",
      "        nan 0.4283805         nan        nan 0.48295859 0.48295859\n",
      "        nan        nan        nan        nan        nan        nan\n",
      "        nan        nan        nan        nan        nan        nan\n",
      "        nan        nan        nan        nan        nan        nan\n",
      "        nan        nan        nan        nan        nan        nan\n",
      "        nan        nan        nan        nan        nan        nan\n",
      " 0.80704604 0.86732702 0.8475634  0.84750563 0.83554979 0.80465958\n",
      " 0.85892934 0.85484989 0.8475634  0.8378513  0.80465958 0.85892934\n",
      " 0.85484989 0.8475634  0.8378513  0.78750563 0.86651705 0.85591822\n",
      " 0.8429853  0.83291455 0.76080656 0.84617553 0.83896457 0.8502718\n",
      " 0.83291455 0.76080656 0.84617553 0.83896457 0.8502718  0.83291455\n",
      " 0.78677754 0.79209605 0.7984589  0.79512829 0.79000571 0.78468819\n",
      " 0.7918853  0.803697   0.79319785 0.79000571 0.78468819 0.7918853\n",
      " 0.803697   0.79319785 0.79000571 0.73404577 0.77459657 0.7594665\n",
      " 0.75160602 0.75160602 0.7381241  0.77548063 0.7625943  0.75607002\n",
      " 0.75533127 0.7381241  0.77548063 0.7625943  0.75607002 0.75533127\n",
      " 0.76110401 0.76958822 0.77998907 0.75369517 0.75607395 0.75135464\n",
      " 0.76379968 0.78194161 0.75692564 0.75369517 0.75135464 0.76379968\n",
      " 0.78194161 0.75692564 0.75369517 0.48803817 0.48295859 0.48295859\n",
      " 0.48295859 0.48295859 0.48181724 0.48295859 0.48295859 0.48295859\n",
      " 0.48295859 0.48181724 0.48295859 0.48295859 0.48295859 0.48295859\n",
      " 0.48295859 0.48295859 0.48295859 0.48295859 0.48295859 0.48181724\n",
      " 0.48295859 0.48295859 0.48295859 0.48295859 0.48181724 0.48295859\n",
      " 0.48295859 0.48295859 0.48295859 0.48184058 0.48295859 0.48295859\n",
      " 0.48295859 0.48295859 0.48184058 0.48295859 0.48295859 0.48295859\n",
      " 0.48295859 0.48184058 0.48295859 0.48295859 0.48295859 0.48295859\n",
      " 0.48295859 0.48295859 0.48295859 0.48295859 0.48295859 0.48295859\n",
      " 0.48295859 0.48295859 0.48295859 0.48295859 0.48295859 0.48295859\n",
      " 0.48295859 0.48295859 0.48295859 0.48295859 0.48295859 0.48295859\n",
      " 0.48295859 0.48295859 0.48295859 0.48295859 0.48295859 0.48295859\n",
      " 0.48295859 0.48295859 0.48295859 0.48295859 0.48295859 0.48295859\n",
      " 0.48295859 0.48295859 0.48295859 0.48295859 0.48295859 0.48295859\n",
      " 0.48295859 0.48295859 0.48295859 0.48295859 0.48295859 0.48295859\n",
      " 0.48295859 0.48295859 0.48295859 0.48295859 0.48295859 0.48295859\n",
      " 0.48295859 0.48295859 0.48295859 0.48295859 0.48295859 0.48295859\n",
      " 0.48295859 0.48295859 0.48295859 0.48295859 0.48295859 0.48295859\n",
      " 0.48295859 0.48295859 0.48295859 0.48295859 0.48295859 0.48295859\n",
      " 0.48295859 0.48295859 0.48295859 0.48295859 0.48295859 0.48295859\n",
      " 0.48295859 0.48295859 0.48295859 0.48295859 0.48295859 0.48295859\n",
      " 0.48295859 0.48295859 0.48295859 0.48295859 0.48295859 0.48295859\n",
      " 0.48295859 0.48295859 0.48295859 0.48295859 0.48295859 0.48295859\n",
      " 0.48295859 0.48295859 0.48295859 0.48295859 0.48295859 0.48295859\n",
      " 0.48295859 0.48295859 0.48295859 0.48295859 0.48295859 0.48295859\n",
      " 0.48295859 0.48295859 0.48295859 0.48295859 0.48295859        nan\n",
      " 0.48295859 0.48295859 0.48295859 0.48295859 0.48295859 0.48295859\n",
      " 0.48295859        nan 0.48295859 0.48295859 0.48295859 0.48295859\n",
      " 0.48295859 0.48295859        nan 0.48295859        nan        nan\n",
      " 0.48295859 0.48295859        nan 0.48295859 0.48295859 0.48295859\n",
      " 0.48295859        nan        nan        nan 0.48295859        nan\n",
      "        nan        nan        nan        nan        nan 0.48295859\n",
      "        nan 0.48295859        nan        nan        nan 0.48295859\n",
      "        nan        nan        nan        nan        nan        nan\n",
      "        nan        nan        nan        nan        nan        nan\n",
      "        nan        nan        nan        nan        nan        nan\n",
      "        nan        nan        nan        nan        nan        nan\n",
      "        nan        nan        nan        nan        nan        nan\n",
      " 0.43031685        nan 0.48295859        nan 0.45663772 0.42644415\n",
      "        nan        nan 0.42318781 0.40012328        nan        nan\n",
      " 0.42644415 0.39818693        nan 0.45470137 0.45663772 0.48295859\n",
      "        nan        nan 0.45470137        nan        nan        nan\n",
      " 0.48295859 0.42512416 0.45470137 0.45663772        nan 0.42644415\n",
      "        nan        nan        nan        nan        nan        nan\n",
      "        nan 0.45663772        nan        nan        nan        nan\n",
      "        nan        nan        nan        nan        nan        nan\n",
      "        nan        nan        nan        nan        nan        nan\n",
      "        nan        nan        nan        nan        nan        nan\n",
      "        nan        nan        nan        nan        nan        nan\n",
      "        nan        nan        nan        nan        nan        nan\n",
      "        nan        nan        nan        nan        nan        nan\n",
      " 0.48295859 0.4283805  0.4283805         nan        nan        nan\n",
      " 0.42318781        nan 0.45470137 0.45663772        nan 0.39686693\n",
      "        nan        nan 0.48295859 0.40012328        nan        nan\n",
      "        nan        nan        nan 0.43031685 0.36992971        nan\n",
      "        nan 0.48295859        nan        nan        nan        nan\n",
      "        nan        nan        nan        nan        nan 0.39818693\n",
      "        nan        nan        nan        nan        nan        nan\n",
      "        nan        nan        nan        nan        nan        nan\n",
      "        nan        nan        nan        nan        nan        nan\n",
      "        nan        nan        nan        nan        nan        nan\n",
      "        nan        nan        nan        nan        nan        nan\n",
      "        nan        nan        nan        nan        nan        nan]\n",
      "  warnings.warn(\n"
     ]
    }
   ],
   "source": [
    "param_grid_tree =[{'kernelpca__n_components':n_comps,'kernelpca__gamma':param_range,'randomforestclassifier__n_estimators': n_estimators, 'randomforestclassifier__criterion': ['gini'] , 'randomforestclassifier__max_depth': max_depth},\n",
    "            {'kernelpca__n_components':n_comps,'kernelpca__gamma':param_range,'randomforestclassifier__n_estimators': n_estimators, 'randomforestclassifier__criterion': ['entropy'] , 'randomforestclassifier__max_depth': max_depth}]\n",
    "\n",
    "pipe_tree=make_pipeline(KernelPCA(kernel='rbf'),\n",
    "                RandomForestClassifier(random_state=1))\n",
    "\n",
    "gs6=GridSearchCV(estimator=pipe_tree,\n",
    "        param_grid=param_grid_tree,\n",
    "        scoring=scorer,\n",
    "        n_jobs=-1,\n",
    "        refit=True,\n",
    "        cv=10)\n",
    "        \n",
    "gs6=gs6.fit(X_train_ex, y_train_ex)\n",
    "print(gs.best_score_)\n",
    "print(gs.best_params_)"
   ]
  },
  {
   "cell_type": "code",
   "execution_count": null,
   "metadata": {},
   "outputs": [],
   "source": []
  }
 ],
 "metadata": {
  "interpreter": {
   "hash": "4f04d4750147c260b0804ebfaa76b382e7043e60e5f744d3a402c5357fa22529"
  },
  "kernelspec": {
   "display_name": "Python 3.8.8 64-bit ('base': conda)",
   "language": "python",
   "name": "python3"
  },
  "language_info": {
   "codemirror_mode": {
    "name": "ipython",
    "version": 3
   },
   "file_extension": ".py",
   "mimetype": "text/x-python",
   "name": "python",
   "nbconvert_exporter": "python",
   "pygments_lexer": "ipython3",
   "version": "3.8.8"
  },
  "orig_nbformat": 4
 },
 "nbformat": 4,
 "nbformat_minor": 2
}
