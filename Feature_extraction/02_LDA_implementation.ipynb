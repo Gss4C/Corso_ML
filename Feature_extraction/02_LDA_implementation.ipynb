{
 "cells": [
  {
   "cell_type": "code",
   "execution_count": 2,
   "metadata": {},
   "outputs": [],
   "source": [
    "import numpy as np \n",
    "import pandas as pd\n",
    "from sklearn.model_selection import train_test_split\n",
    "from sklearn.preprocessing import StandardScaler\n",
    "\n",
    "df = pd.read_csv('wine.data' , header=None)\n",
    "X = df.iloc[:,1:14].values\n",
    "y = df.iloc[:,0].values\n",
    "df.columns=['Classlabel', 'Alcohol', 'Malicacid', 'Ash', 'Alcalinityofash', 'Magnesium', \n",
    "'Totalphenols', 'Flavanoids', 'Nonflavanoidphenols', 'Proanthocyanins', 'Colorintensity', 'Hue', 'ofdilutedwines', 'Proline']\n",
    "\n",
    "X_train, X_test , y_train , y_test = train_test_split(X , y , test_size = 0.3 , random_state=0 , stratify = y)\n",
    "\n",
    "sc = StandardScaler()\n",
    "sc.fit(X_train)\n",
    "X_train_std = sc.transform(X_train)\n",
    "sc.fit(X_test)\n",
    "X_test_std = sc.transform(X_test)"
   ]
  },
  {
   "cell_type": "code",
   "execution_count": 4,
   "metadata": {},
   "outputs": [
    {
     "name": "stdout",
     "output_type": "stream",
     "text": [
      "MV 1: [ 0.9065826  -0.34973457  0.32010329 -0.71891449  0.50558678  0.88069702\n",
      "  0.95894709 -0.55161049  0.54159322  0.23383109  0.58971299  0.65631399\n",
      "  1.20749382]\n",
      "\n",
      "MV 2: [-0.87487963 -0.28480003 -0.37347228  0.31571225 -0.38480347 -0.04332505\n",
      "  0.06345321 -0.09460613  0.07034749 -0.82860474  0.31436962  0.36084258\n",
      " -0.72528643]\n",
      "\n",
      "MV 3: [ 0.199215    0.8660339   0.168163    0.41484489 -0.04511771 -1.02855532\n",
      " -1.28756034  0.82867687 -0.77947565  0.96494432 -1.20899133 -1.36215159\n",
      " -0.40130076]\n",
      "\n"
     ]
    }
   ],
   "source": [
    "np.printoptions( precision= 4 )\n",
    "mean_vecs = []\n",
    "for label in range(1,4):\n",
    "    mean_vecs.append(np.mean(X_train_std[y_train==label] , axis=0))\n",
    "    print( 'MV %s: %s\\n' %(label , mean_vecs[label-1]))"
   ]
  },
  {
   "cell_type": "code",
   "execution_count": 5,
   "metadata": {},
   "outputs": [
    {
     "name": "stdout",
     "output_type": "stream",
     "text": [
      "Matrice S_W: 13x13\n"
     ]
    }
   ],
   "source": [
    "d=13 #questo è il numero di features\n",
    "S_W = np.zeros((d,d))\n",
    "for label , mv in zip(range(1,4) , mean_vecs):\n",
    "    class_scatter = np.zeros((d,d))\n",
    "    for row in X_train_std[y_train==label]:\n",
    "        row , mv = row.reshape(d,1) , mv.reshape(d,1)\n",
    "        class_scatter += (row-mv).dot((row-mv).T)\n",
    "    S_W +=class_scatter\n",
    "print('Matrice S_W: %sx%s' %(S_W.shape[0] , S_W.shape[1]))"
   ]
  },
  {
   "cell_type": "code",
   "execution_count": 6,
   "metadata": {},
   "outputs": [
    {
     "name": "stdout",
     "output_type": "stream",
     "text": [
      "Class label distribution: [41 50 33]\n"
     ]
    }
   ],
   "source": [
    "print('Class label distribution: %s' % np.bincount(y_train)[1:])"
   ]
  },
  {
   "cell_type": "code",
   "execution_count": 7,
   "metadata": {},
   "outputs": [
    {
     "name": "stdout",
     "output_type": "stream",
     "text": [
      "Matrice S_B: 13x13\n"
     ]
    }
   ],
   "source": [
    "mean_overall = np.mean(X_train_std , axis = 0)\n",
    "S_B = np.zeros((d,d))\n",
    "\n",
    "for i , mean_vec in enumerate(mean_vecs):\n",
    "    n=X_train[y_train == i+1 , :].shape[0]\n",
    "    mean_vec = mean_vec.reshape(d,1)\n",
    "    mean_overall = mean_overall.reshape(d,1)\n",
    "    S_B += n* (mean_vec - mean_overall).dot((mean_vec - mean_overall).T)\n",
    "print('Matrice S_B: %sx%s' %(S_B.shape[0] , S_B.shape[1]))"
   ]
  },
  {
   "cell_type": "code",
   "execution_count": 8,
   "metadata": {},
   "outputs": [
    {
     "name": "stdout",
     "output_type": "stream",
     "text": [
      "Autovalori in ordine discendente: \n",
      "\n",
      "8.262493673957481\n",
      "4.225659486916682\n",
      "7.190993296157536e-16\n",
      "7.190993296157536e-16\n",
      "6.000334073858813e-16\n",
      "5.1187570513338645e-16\n",
      "5.1187570513338645e-16\n",
      "3.505556983142276e-16\n",
      "1.6697077996802437e-16\n",
      "1.6697077996802437e-16\n",
      "1.4204403221246673e-16\n",
      "1.0269898810321967e-17\n",
      "0.0\n"
     ]
    }
   ],
   "source": [
    "eigen_vals , eigen_vecs = np.linalg.eig(np.linalg.inv(S_W).dot(S_B))\n",
    "#sorting eigenvalues...\n",
    "eigen_pairs = [(np.abs(eigen_vals[i]) , eigen_vecs[:,i]) for i in range(len(eigen_vals))]\n",
    "eigen_pairs = sorted(eigen_pairs , key=lambda k : k[0] , reverse=True)\n",
    "print('Autovalori in ordine discendente: \\n')\n",
    "for eigen_val in eigen_pairs:\n",
    "    print(eigen_val[0])"
   ]
  },
  {
   "cell_type": "code",
   "execution_count": 11,
   "metadata": {},
   "outputs": [
    {
     "data": {
      "text/plain": [
       "<matplotlib.legend.Legend at 0x2a2d5560730>"
      ]
     },
     "execution_count": 11,
     "metadata": {},
     "output_type": "execute_result"
    },
    {
     "data": {
      "image/png": "[encoded data removed]",
      "text/plain": [
       "<Figure size 432x288 with 1 Axes>"
      ]
     },
     "metadata": {
      "needs_background": "light"
     },
     "output_type": "display_data"
    }
   ],
   "source": [
    "import matplotlib.pyplot as plt\n",
    "tot = sum(eigen_vals.real)\n",
    "discr = [(i / tot) for i in sorted(eigen_vals.real , reverse=True)]\n",
    "discr = [(i / tot) for i in sorted(eigen_vals.real , reverse=True)]\n",
    "cum_discr = np.cumsum(discr)\n",
    "plt.bar(range(1, 14), discr, alpha=0.5, align='center',\n",
    " label='individual \"discriminability\"')\n",
    "plt.step(range(1, 14), cum_discr, where='mid',\n",
    " label='cumulative \"discriminability\"')\n",
    "plt.ylabel('\"discriminability\" ratio')\n",
    "plt.xlabel('Linear Discriminants')\n",
    "plt.ylim([-0.1, 1.1])\n",
    "plt.legend(loc='best')\n"
   ]
  },
  {
   "cell_type": "code",
   "execution_count": 12,
   "metadata": {},
   "outputs": [
    {
     "name": "stdout",
     "output_type": "stream",
     "text": [
      "Matrice W: \n",
      " [[-0.15856101 -0.40770012]\n",
      " [ 0.0983994  -0.18214518]\n",
      " [-0.01555015 -0.34732562]\n",
      " [ 0.15877745  0.30951627]\n",
      " [-0.02070903 -0.06395442]\n",
      " [ 0.18843457  0.07330708]\n",
      " [-0.71526798  0.30343998]\n",
      " [-0.07975655 -0.00093295]\n",
      " [ 0.00742877  0.07163746]\n",
      " [ 0.34478986 -0.28077018]\n",
      " [-0.02540103  0.24395637]\n",
      " [-0.31916168 -0.04592015]\n",
      " [-0.40542991 -0.58055177]]\n"
     ]
    }
   ],
   "source": [
    "#Creo la matrice di trasformazione prenendo i  discriminanti\n",
    "w = np.hstack((eigen_pairs[0][1][:,np.newaxis].real , eigen_pairs[1][1][: , np.newaxis].real))\n",
    "print('Matrice W: \\n' , w)"
   ]
  },
  {
   "cell_type": "code",
   "execution_count": 14,
   "metadata": {},
   "outputs": [
    {
     "data": {
      "image/png": "[encoded data removed]",
      "text/plain": [
       "<Figure size 432x288 with 1 Axes>"
      ]
     },
     "metadata": {
      "needs_background": "light"
     },
     "output_type": "display_data"
    }
   ],
   "source": [
    "X_train_lda = X_train_std.dot(w)\n",
    "colors = ['r', 'b', 'g']\n",
    "markers = ['s', 'x', 'o']\n",
    "for l, c, m in zip(np.unique(y_train), colors, markers):\n",
    "    plt.scatter(X_train_lda[y_train == l , 0],X_train_lda[y_train==l, 1] * (-1),c=c, label=l, marker=m)\n",
    "plt.xlabel('LD 1')\n",
    "plt.ylabel('LD 2')\n",
    "plt.legend(loc='lower right')\n",
    "plt.show()"
   ]
  },
  {
   "cell_type": "code",
   "execution_count": null,
   "metadata": {},
   "outputs": [],
   "source": []
  }
 ],
 "metadata": {
  "interpreter": {
   "hash": "4f04d4750147c260b0804ebfaa76b382e7043e60e5f744d3a402c5357fa22529"
  },
  "kernelspec": {
   "display_name": "Python 3.8.8 64-bit ('base': conda)",
   "language": "python",
   "name": "python3"
  },
  "language_info": {
   "codemirror_mode": {
    "name": "ipython",
    "version": 3
   },
   "file_extension": ".py",
   "mimetype": "text/x-python",
   "name": "python",
   "nbconvert_exporter": "python",
   "pygments_lexer": "ipython3",
   "version": "3.8.8"
  },
  "orig_nbformat": 4
 },
 "nbformat": 4,
 "nbformat_minor": 2
}
