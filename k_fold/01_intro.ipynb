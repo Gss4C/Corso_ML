{
 "cells": [
  {
   "cell_type": "code",
   "execution_count": 1,
   "metadata": {},
   "outputs": [
    {
     "name": "stdout",
     "output_type": "stream",
     "text": [
      "[2 3] [0 1]\n",
      "[0 1] [2 3]\n"
     ]
    }
   ],
   "source": [
    "import numpy as np \n",
    "import pandas as pd\n",
    "from sklearn.model_selection import KFold\n",
    "\n",
    "X=[\"a\" , \"b\" , \"c\" , \"d\"]\n",
    "kf = KFold(n_splits=2)\n",
    "for train , test in kf.split(X):\n",
    "    print(\"%s %s\" % (train , test))"
   ]
  },
  {
   "cell_type": "code",
   "execution_count": 2,
   "metadata": {},
   "outputs": [],
   "source": [
    "from sklearn.svm import SVC\n",
    "from sklearn.model_selection import train_test_split\n",
    "\n",
    "df = pd.read_csv('wine.data' , header=None)\n",
    "X = df.iloc[:,1:14].values\n",
    "y = df.iloc[:,0].values\n",
    "df.columns=['Classlabel', 'Alcohol', 'Malicacid', 'Ash', 'Alcalinityofash', 'Magnesium', \n",
    "'Totalphenols', 'Flavanoids', 'Nonflavanoidphenols', 'Proanthocyanins', 'Colorintensity', 'Hue', 'ofdilutedwines', 'Proline']\n",
    "\n",
    "X_train, X_test , y_train , y_test = train_test_split(X , y , test_size = 0.3 , random_state=1 , stratify = y)"
   ]
  },
  {
   "cell_type": "code",
   "execution_count": 5,
   "metadata": {},
   "outputs": [
    {
     "name": "stdout",
     "output_type": "stream",
     "text": [
      "Fold:  1 , Class dist .: [ 0 36 46 29] , Acc: 0.923\n",
      "Fold:  2 , Class dist .: [ 0 40 44 27] , Acc: 0.923\n",
      "Fold:  3 , Class dist .: [ 0 36 44 31] , Acc: 0.923\n",
      "Fold:  4 , Class dist .: [ 0 36 46 29] , Acc: 0.923\n",
      "Fold:  5 , Class dist .: [ 0 35 47 30] , Acc: 1.000\n",
      "Fold:  6 , Class dist .: [ 0 38 44 30] , Acc: 0.917\n",
      "Fold:  7 , Class dist .: [ 0 36 45 31] , Acc: 1.000\n",
      "Fold:  8 , Class dist .: [ 0 37 45 30] , Acc: 1.000\n",
      "Fold:  9 , Class dist .: [ 0 38 46 28] , Acc: 0.833\n",
      "Fold: 10 , Class dist .: [ 0 37 43 32] , Acc: 0.917\n",
      "\n",
      "CV accuracy: 0.936 +/- 0.049\n"
     ]
    }
   ],
   "source": [
    "clf = SVC(kernel='linear' , C=1)\n",
    "kfold2 = KFold(n_splits= 10).split(X_train , y_train)\n",
    "scores = []\n",
    "for k , (train , test) in enumerate(kfold2):\n",
    "    clf.fit(X_train[train] , y_train[train])\n",
    "    score = clf.score(X_train[test] , y_train[test])\n",
    "    scores.append(score)\n",
    "    print('Fold: %2d , Class dist .: %s , Acc: %.3f' %(k+1 , np.bincount(y_train[train]) , score))\n",
    "print('\\nCV accuracy: %.3f +/- %.3f' % (np.mean(scores) , np.std(scores)))"
   ]
  },
  {
   "cell_type": "code",
   "execution_count": null,
   "metadata": {},
   "outputs": [],
   "source": []
  }
 ],
 "metadata": {
  "interpreter": {
   "hash": "4f04d4750147c260b0804ebfaa76b382e7043e60e5f744d3a402c5357fa22529"
  },
  "kernelspec": {
   "display_name": "Python 3.8.8 64-bit ('base': conda)",
   "language": "python",
   "name": "python3"
  },
  "language_info": {
   "codemirror_mode": {
    "name": "ipython",
    "version": 3
   },
   "file_extension": ".py",
   "mimetype": "text/x-python",
   "name": "python",
   "nbconvert_exporter": "python",
   "pygments_lexer": "ipython3",
   "version": "3.8.8"
  },
  "orig_nbformat": 4
 },
 "nbformat": 4,
 "nbformat_minor": 2
}
