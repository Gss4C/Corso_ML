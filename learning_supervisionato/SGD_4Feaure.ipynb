{
 "cells": [
  {
   "cell_type": "code",
   "execution_count": 1,
   "metadata": {},
   "outputs": [],
   "source": [
    "import neuroni_funzioni as nfz\n",
    "import numpy as np \n"
   ]
  },
  {
   "cell_type": "code",
   "execution_count": 43,
   "id": "1afe0549-f1b3-4e07-b6f7-84ea4870eb92",
   "metadata": {},
   "outputs": [],
   "source": [
    "import numpy as np\n",
    "class AdalineSGD(object):\n",
    "    def __init__(self , eta=0.01 , n_iter = 10 , shuffle = True , random_state=None):\n",
    "        self.eta = eta\n",
    "        self.n_iter = n_iter\n",
    "        self.w_initialized = False \n",
    "        self.shuffle = shuffle\n",
    "        self.random_state = random_state\n",
    "        \n",
    "    def fit(self , X , y):\n",
    "        self._initialize_weights (X.shape[1]) #shape dà numero di righe o colonne\n",
    "        self.cost_=[]\n",
    "        for i in range(self.n_iter):\n",
    "            if self._shuffle: \n",
    "                X,y = self._shuffle(X,y)\n",
    "            cost = []\n",
    "            for xi , target in zip(X,y):\n",
    "                cost.append(self._update_weights(xi , target))\n",
    "                avg_cost=sum(cost)/len(y)\n",
    "                self.cost_.append(avg_cost)\n",
    "        return self\n",
    "    \n",
    "    def _shuffle(self , X , y): #Funzione che fa lo shuffle\n",
    "        r=self.rgen.permutation(len(y))\n",
    "        return X[r] , y[r]\n",
    "    \n",
    "    def _update_weights(self , xi , target):\n",
    "        output = self.activation(self.net_input(xi))\n",
    "        error = (target - output)\n",
    "        self.w_[1:]+=self.eta*xi.dot(error)\n",
    "        self.w_[0]+= self.eta * error\n",
    "        cost = 0.5 * error**2\n",
    "        return cost\n",
    "    \n",
    "    def partial_fit(self , X , y): #serve per il caso nel quale ho i pesi inizializzati\n",
    "        if not self.w_initialized : \n",
    "            self._initialize_weights(X.shape[1])\n",
    "        if y.ravel().shape[0]>1:\n",
    "            for xi , target in zip(X , y):\n",
    "                self._update_weights(xi, targer)\n",
    "        else: #Mi serve per non far avere errore a zip se ho 1 solo valore\n",
    "            self._update_weights(X,y)\n",
    "        return self\n",
    "    \n",
    "    def _initialize_weights(self , m):\n",
    "        self.rgen = np.random.RandomState(self.random_state)\n",
    "        self.w_=self.rgen.normal(loc = 0.0 , scale = 0.01 , size=1+m)\n",
    "        self.w_initialized = True\n",
    "    \n",
    "    def net_input(self , X):\n",
    "        return np.dot(X , self.w_[1:])+self.w_[0]\n",
    "    \n",
    "    def activation(self , X):\n",
    "        return X\n",
    "    \n",
    "    def predict(self , X):\n",
    "        return np.where(self.activation(self.net_input(X))>= 0.0 , 1 , -1)"
   ]
  },
  {
   "cell_type": "code",
   "execution_count": 2,
   "id": "9142f473-e4be-4e40-868d-90af7ab48561",
   "metadata": {},
   "outputs": [
    {
     "data": {
      "text/html": [
       "<div>\n",
       "<style scoped>\n",
       "    .dataframe tbody tr th:only-of-type {\n",
       "        vertical-align: middle;\n",
       "    }\n",
       "\n",
       "    .dataframe tbody tr th {\n",
       "        vertical-align: top;\n",
       "    }\n",
       "\n",
       "    .dataframe thead th {\n",
       "        text-align: right;\n",
       "    }\n",
       "</style>\n",
       "<table border=\"1\" class=\"dataframe\">\n",
       "  <thead>\n",
       "    <tr style=\"text-align: right;\">\n",
       "      <th></th>\n",
       "      <th>0</th>\n",
       "      <th>1</th>\n",
       "      <th>2</th>\n",
       "      <th>3</th>\n",
       "      <th>4</th>\n",
       "    </tr>\n",
       "  </thead>\n",
       "  <tbody>\n",
       "    <tr>\n",
       "      <th>145</th>\n",
       "      <td>6.7</td>\n",
       "      <td>3.0</td>\n",
       "      <td>5.2</td>\n",
       "      <td>2.3</td>\n",
       "      <td>Iris-virginica</td>\n",
       "    </tr>\n",
       "    <tr>\n",
       "      <th>146</th>\n",
       "      <td>6.3</td>\n",
       "      <td>2.5</td>\n",
       "      <td>5.0</td>\n",
       "      <td>1.9</td>\n",
       "      <td>Iris-virginica</td>\n",
       "    </tr>\n",
       "    <tr>\n",
       "      <th>147</th>\n",
       "      <td>6.5</td>\n",
       "      <td>3.0</td>\n",
       "      <td>5.2</td>\n",
       "      <td>2.0</td>\n",
       "      <td>Iris-virginica</td>\n",
       "    </tr>\n",
       "    <tr>\n",
       "      <th>148</th>\n",
       "      <td>6.2</td>\n",
       "      <td>3.4</td>\n",
       "      <td>5.4</td>\n",
       "      <td>2.3</td>\n",
       "      <td>Iris-virginica</td>\n",
       "    </tr>\n",
       "    <tr>\n",
       "      <th>149</th>\n",
       "      <td>5.9</td>\n",
       "      <td>3.0</td>\n",
       "      <td>5.1</td>\n",
       "      <td>1.8</td>\n",
       "      <td>Iris-virginica</td>\n",
       "    </tr>\n",
       "  </tbody>\n",
       "</table>\n",
       "</div>"
      ],
      "text/plain": [
       "       0    1    2    3               4\n",
       "145  6.7  3.0  5.2  2.3  Iris-virginica\n",
       "146  6.3  2.5  5.0  1.9  Iris-virginica\n",
       "147  6.5  3.0  5.2  2.0  Iris-virginica\n",
       "148  6.2  3.4  5.4  2.3  Iris-virginica\n",
       "149  5.9  3.0  5.1  1.8  Iris-virginica"
      ]
     },
     "execution_count": 2,
     "metadata": {},
     "output_type": "execute_result"
    }
   ],
   "source": [
    "import pandas as pd\n",
    "df = pd.read_csv('https://archive.ics.uci.edu/ml/machine-learning-databases/iris/iris.data',header=None) \n",
    "df.tail()"
   ]
  },
  {
   "cell_type": "code",
   "execution_count": 3,
   "id": "6e16cd64-cfc4-4ee8-a315-20434bf2fd71",
   "metadata": {},
   "outputs": [],
   "source": [
    "import numpy as np\n",
    "import matplotlib.pyplot as plt\n",
    "y = df.iloc[0:100,4].values\n",
    "y = np.where(y == 'Iris-setosa',-1,1) \n",
    "X = df.iloc[0:100,[0,1,2,3]].values "
   ]
  },
  {
   "cell_type": "code",
   "execution_count": 46,
   "id": "d274115f-8b09-412e-8b20-2388b48a3c6d",
   "metadata": {},
   "outputs": [],
   "source": [
    "from matplotlib.colors import ListedColormap\n",
    "def plot_decision_regions(X,y, classifier , resolution = 0.02):\n",
    "    #stup dei marker e dei colori\n",
    "    markers = ('s','x','o','^','v')\n",
    "    colors = ('red' , 'blue' , 'lightgreen' , 'gray' , 'cyan')\n",
    "    cmap = ListedColormap(colors[: len(np.unique(y))])\n",
    "    #plot\n",
    "    x1_min , x1_max = X[:,0].min()-1 , X[:, 0].max()+1\n",
    "    x2_min , x2_max = X[:,1].min()-1 , X[:, 1].max()+1\n",
    "    xx1 , xx2 = np.meshgrid(np.arange(x1_min , x1_max , resolution) , np.arange(x2_min , x2_max , resolution))\n",
    "    Z = classifier.predict(np.array([xx1.ravel() , xx2.ravel()]).T)\n",
    "    Z = Z.reshape(xx1.shape)\n",
    "    plt.contourf(xx1 , xx2 , Z , alpha=0.3 , cmap=cmap)\n",
    "    plt.xlim(xx1.min() , xx1.max())\n",
    "    plt.ylim(xx2.min() , xx2.max())\n",
    "    \n",
    "    #plot esempio. Qui posso plottare i punti di test, così vediamo se è tutto ok.\n",
    "    for idx, cl , in enumerate(np.unique(y)):\n",
    "        plt.scatter(x=X[y==cl , 0],y=X[y==cl , 1], alpha=0.8 , c=colors[idx], marker=markers[idx], label=cl , edgecolor='black')"
   ]
  },
  {
   "cell_type": "code",
   "execution_count": 5,
   "id": "71035bbe-e1d2-461d-9ca0-42aa85a3cec4",
   "metadata": {},
   "outputs": [
    {
     "data": {
      "image/png": "[encoded data removed]",
      "text/plain": [
       "<Figure size 432x288 with 1 Axes>"
      ]
     },
     "metadata": {
      "needs_background": "light"
     },
     "output_type": "display_data"
    }
   ],
   "source": [
    "ada_sgd=nfz.AdalineSGD(n_iter=50 , eta = 0.001 , random_state=1)\n",
    "ada_sgd.fit(X , y)\n",
    "\n",
    "plt.plot(range(1,len(ada_sgd.cost_)+1) , ada_sgd.cost_ , marker='o')\n",
    "plt.xlabel('Epoche')\n",
    "plt.ylabel('Costo Medio')\n",
    "plt.tight_layout()\n",
    "plt.show()\n"
   ]
  },
  {
   "cell_type": "code",
   "execution_count": null,
   "id": "cc425b1e-a24d-4616-8bec-9bdf655b5b8f",
   "metadata": {},
   "outputs": [],
   "source": []
  },
  {
   "cell_type": "code",
   "execution_count": null,
   "id": "03fe1ece-b647-4707-b116-a7c1b095f7a8",
   "metadata": {},
   "outputs": [],
   "source": []
  }
 ],
 "metadata": {
  "interpreter": {
   "hash": "4f04d4750147c260b0804ebfaa76b382e7043e60e5f744d3a402c5357fa22529"
  },
  "kernelspec": {
   "display_name": "Python 3.8.8 64-bit ('base': conda)",
   "name": "python3"
  },
  "language_info": {
   "codemirror_mode": {
    "name": "ipython",
    "version": 3
   },
   "file_extension": ".py",
   "mimetype": "text/x-python",
   "name": "python",
   "nbconvert_exporter": "python",
   "pygments_lexer": "ipython3",
   "version": "3.8.8"
  }
 },
 "nbformat": 4,
 "nbformat_minor": 5
}
