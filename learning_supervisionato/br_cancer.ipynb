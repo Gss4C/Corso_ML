{
 "cells": [
  {
   "cell_type": "code",
   "execution_count": null,
   "metadata": {},
   "outputs": [],
   "source": [
    "import numpy as np \n",
    "import pandas as pd"
   ]
  },
  {
   "cell_type": "code",
   "execution_count": null,
   "metadata": {},
   "outputs": [],
   "source": [
    "df = pd.read_csv('dataR2.csv')\n",
    "y = df.iloc[0:115,9].values\n",
    "X = df.iloc[0:115,0:8].values\n",
    "pd.set_option(\"display.max_rows\", 20, \"display.max_columns\", None)\n",
    "df"
   ]
  },
  {
   "cell_type": "code",
   "execution_count": null,
   "metadata": {},
   "outputs": [],
   "source": [
    "from sklearn.model_selection import train_test_split\n",
    "X_train, X_test , y_train , y_test = train_test_split(X , y , test_size = 0.2 , \n",
    "        random_state=1 , stratify = y)\n",
    "print(X_train.shape)\n",
    "print(y_train.shape)"
   ]
  },
  {
   "cell_type": "code",
   "execution_count": null,
   "metadata": {},
   "outputs": [],
   "source": [
    "from sklearn.model_selection import train_test_split\n",
    "X_tt, X_validation , y_tt , y_validation = train_test_split(X_train , y_train , test_size = 0.15 , random_state=1 , stratify = y_train)"
   ]
  },
  {
   "cell_type": "code",
   "execution_count": null,
   "metadata": {},
   "outputs": [],
   "source": [
    "from sklearn.preprocessing import StandardScaler\n",
    "sc = StandardScaler()\n",
    "sc.fit(X_tt)\n",
    "sc.fit(X_validation)\n",
    "sc.fit(X_test)\n",
    "X_t_std = sc.transform(X_tt)\n",
    "X_v_std = sc.transform(X_validation)\n",
    "X_test_std = sc.transform(X_test)\n"
   ]
  },
  {
   "cell_type": "markdown",
   "metadata": {},
   "source": [
    "Provo a fare plot delle varie features a 2 a 2"
   ]
  },
  {
   "cell_type": "code",
   "execution_count": null,
   "metadata": {},
   "outputs": [],
   "source": [
    "import matplotlib.pyplot as plt\n",
    "for i in range(8):\n",
    "    for j in range(i,8):\n",
    "        if i!=j:\n",
    "            plt.scatter(X[:51 , i] , X[:51 , j], color='red', marker='o', label='Tipologia 1')\n",
    "            plt.scatter(X[51:115, i], X[51:115, j], color='blue', marker='x' , label='Tipologia 2')\n",
    "            plt.show()\n",
    "            plt.xlabel('Feature i')\n",
    "            plt.ylabel('Feature j')\n",
    "            plt.legend(loc='upper left')\n",
    "            \n",
    "#not sure if it is working...\n"
   ]
  },
  {
   "cell_type": "markdown",
   "metadata": {},
   "source": [
    "Devo adesso fare una divisione su vari neuroni fatti, qundi li provo in ordine.\n"
   ]
  },
  {
   "cell_type": "markdown",
   "metadata": {},
   "source": [
    "Percettrone:"
   ]
  },
  {
   "cell_type": "code",
   "execution_count": null,
   "metadata": {},
   "outputs": [],
   "source": [
    "from sklearn.linear_model import Perceptron\n",
    "from sklearn.metrics import accuracy_score\n",
    "accuracy = []\n",
    "for epoche in range(10 , 1000 , 50):\n",
    "    a = []\n",
    "    for eta in [10**i for i in range(-6 , 1)]:\n",
    "        ppn = Perceptron(max_iter = epoche , eta0 = eta , random_state = 1)\n",
    "        ppn.fit(X_t_std , y_tt)\n",
    "        y_pred = ppn.predict(X_v_std)\n",
    "        b = accuracy_score(y_validation , y_pred)\n",
    "        a.append( b )\n",
    "    accuracy.append( a )\n",
    "\n",
    "maxx = np.max(accuracy)\n",
    "print(maxx)\n"
   ]
  },
  {
   "cell_type": "markdown",
   "metadata": {},
   "source": [
    "Provo adesso altri classificatori, ma senza andarmi a fare delle matrici di accuracy"
   ]
  },
  {
   "cell_type": "markdown",
   "metadata": {},
   "source": [
    "KNN"
   ]
  },
  {
   "cell_type": "code",
   "execution_count": null,
   "metadata": {},
   "outputs": [],
   "source": [
    "from sklearn.neighbors import KNeighborsClassifier\n",
    "knn = KNeighborsClassifier(n_neighbors= 5 , p = 2 , metric = 'minkowski')\n",
    "knn.fit(X_t_std , y_tt)\n",
    "y_pred_knn = knn.predict(X_v_std)\n",
    "y_pred_knn_train = knn.predict(X_t_std)\n",
    "\n",
    "print(accuracy_score(y_validation , y_pred_knn))\n",
    "print(accuracy_score(y_tt , y_pred_knn_train))\n"
   ]
  },
  {
   "cell_type": "markdown",
   "metadata": {},
   "source": [
    "SVM"
   ]
  },
  {
   "cell_type": "code",
   "execution_count": null,
   "metadata": {},
   "outputs": [],
   "source": [
    "from sklearn.svm import SVC\n",
    "svm = SVC(C = 1 , gamma = 'auto')\n",
    "svm.fit(X_t_std , y_tt)\n",
    "y_pred_svm = svm.predict(X_v_std)\n",
    "y_pred_svm_train = svm.predict(X_t_std)\n",
    "\n",
    "print(accuracy_score(y_validation , y_pred_svm))\n",
    "print(accuracy_score(y_tt , y_pred_svm_train))\n"
   ]
  },
  {
   "cell_type": "markdown",
   "metadata": {},
   "source": [
    "RANDOM FOREST"
   ]
  },
  {
   "cell_type": "code",
   "execution_count": null,
   "metadata": {},
   "outputs": [],
   "source": [
    "from sklearn.ensemble import RandomForestClassifier\n",
    "forest = RandomForestClassifier(criterion='gini', n_estimators=3000, \n",
    "    random_state=1, n_jobs=2 , max_depth=3)\n",
    "forest.fit(X_t_std , y_tt)\n",
    "y_pred_forest = forest.predict(X_v_std)\n",
    "y_pred_forest_train = forest.predict(X_t_std)\n",
    "\n",
    "print(accuracy_score(y_validation , y_pred_forest))\n",
    "print(accuracy_score(y_tt , y_pred_forest_train))\n"
   ]
  },
  {
   "cell_type": "code",
   "execution_count": null,
   "metadata": {},
   "outputs": [],
   "source": []
  }
 ],
 "metadata": {
  "interpreter": {
   "hash": "4f04d4750147c260b0804ebfaa76b382e7043e60e5f744d3a402c5357fa22529"
  },
  "kernelspec": {
   "display_name": "Python 3.8.8 64-bit ('base': conda)",
   "name": "python3"
  },
  "language_info": {
   "codemirror_mode": {
    "name": "ipython",
    "version": 3
   },
   "file_extension": ".py",
   "mimetype": "text/x-python",
   "name": "python",
   "nbconvert_exporter": "python",
   "pygments_lexer": "ipython3",
   "version": "3.8.8"
  },
  "orig_nbformat": 4
 },
 "nbformat": 4,
 "nbformat_minor": 2
}
